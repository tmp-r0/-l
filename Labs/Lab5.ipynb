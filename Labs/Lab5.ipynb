{
 "cells": [
  {
   "cell_type": "markdown",
   "metadata": {},
   "source": [
    "# Архитектура памяти Windows (Лабораторная работа №5, Вариант 24)\n",
    "## Выполнил: студент группы БВТ2001 Хайдаров Адель Фанисович\n",
    "##### Цель работы:\n",
    "* изучение организации работы с виртуальной памятью в Windows NT\n",
    "* получение практических навыков по использованию WinAPI для исследования памяти приложения\n",
    "##### Задание: разработать программное обеспечение для приложения, которое:\n",
    "* выдает информацию, получаемую при использовании API GlobalMemoryStatus, в графическом представлении.\n",
    "* составляет карту виртуальной памяти для любого существующего процесса по выбору."
   ]
  },
  {
   "cell_type": "markdown",
   "metadata": {},
   "source": [
    "### Вспомогательные функции"
   ]
  },
  {
   "cell_type": "code",
   "execution_count": 2,
   "metadata": {
    "dotnet_interactive": {
     "language": "fsharp"
    },
    "vscode": {
     "languageId": "dotnet-interactive.fsharp"
    }
   },
   "outputs": [
    {
     "data": {
      "text/html": [
       "<div><div></div><div></div><div><strong>Installed Packages</strong><ul><li><span>Plotly.NET.Interactive, 3.0.2</span></li></ul></div></div>"
      ]
     },
     "metadata": {},
     "output_type": "display_data"
    },
    {
     "data": {
      "text/markdown": [
       "Loading extensions from `Plotly.NET.Interactive.dll`"
      ]
     },
     "metadata": {},
     "output_type": "display_data"
    }
   ],
   "source": [
    "open System.Runtime.InteropServices\n",
    "open Microsoft.FSharp.NativeInterop\n",
    "open System.Text\n",
    "open System.IO\n",
    "open System\n",
    "\n",
    "open Plotly.NET\n",
    "\n",
    "let rnd = Random()\n",
    "\n",
    "type w = uint16\n",
    "type dw = uint\n",
    "type ull = uint64\n",
    "type hdl = nativeint\n",
    "\n",
    "#r \"nuget: Plotly.NET.Interactive\""
   ]
  },
  {
   "cell_type": "markdown",
   "metadata": {},
   "source": [
    "### Функции Win32 API\n",
    "Ниже представлены использованные функции Win32 API для получения той или иной информации о системе и для задания некоторых параметров"
   ]
  },
  {
   "cell_type": "code",
   "execution_count": 3,
   "metadata": {
    "dotnet_interactive": {
     "language": "fsharp"
    },
    "vscode": {
     "languageId": "dotnet-interactive.fsharp"
    }
   },
   "outputs": [],
   "source": [
    "type Access = | Terminate = 1 | Create = 2 | Query = 0x400\n",
    "type Snaps = | HeapList = 1 | Process = 2 | Thread = 4 | Module = 8 | All = 15\n",
    "\n",
    "type MemoryState = | Committed = 0x1000 | Free = 0x10000 | Reserved = 0x2000\n",
    "type Protection = | NoAccess = 0x1 | RO = 0x2 | RW = 0x4 | WCopy = 0x8\n",
    "                  | Exec = 0x10 | ExR = 0x20 | ExRW = 0x40 | ExWCopy = 0x80\n",
    "\n",
    "type Type = | Image = 0x1000000 | Mapped = 0x40000 | Private = 0x20000\n",
    "\n",
    "[<DllImport(\"kernel32.dll\")>] extern hdl OpenProcess(Access acc, bool inheritHandle, dw OpenProcess)\n",
    "\n",
    "type MemoryStatus = struct\n",
    "    val mutable length: dw\n",
    "    val load: dw; val total: ull; val available: ull\n",
    "    val pfTotal: ull; val pfAvail: ull\n",
    "    val vTotal: ull; val vAvail: ull\n",
    "end\n",
    "[<DllImport(\"kernel32.dll\")>] extern void GlobalMemoryStatus(MemoryStatus& status)\n",
    "\n",
    "type MemoryInfo = struct\n",
    "    val baseAddr: hdl; val allocBase: hdl\n",
    "    val protection: Protection; val partition: w; val regionSize: hdl\n",
    "    val state: MemoryState; val protect: dw; val pType: Type\n",
    "end\n",
    "\n",
    "[<DllImport(\"kernel32.dll\")>] extern ull VirtualQueryEx(hdl proc, void*, MemoryInfo& info, int length)\n",
    "\n",
    "[<DllImport(\"kernel32.dll\")>] extern bool CloseHandle(hdl object)\n",
    "\n",
    "[<DllImport(\"kernel32.dll\")>] extern int GetLastError()"
   ]
  },
  {
   "cell_type": "markdown",
   "metadata": {},
   "source": [
    "### Выполнение"
   ]
  },
  {
   "cell_type": "markdown",
   "metadata": {},
   "source": [
    "##### Использование памяти"
   ]
  },
  {
   "cell_type": "code",
   "execution_count": 10,
   "metadata": {
    "dotnet_interactive": {
     "language": "fsharp"
    },
    "vscode": {
     "languageId": "dotnet-interactive.fsharp"
    }
   },
   "outputs": [
    {
     "data": {
      "text/html": [
       "<table><thead><tr><th>load</th><th>total</th><th>available</th><th>pfTotal</th><th>pfAvail</th><th>vTotal</th><th>vAvail</th><th>length</th></tr></thead><tbody><tr><td><div class=\"dni-plaintext\">65</div></td><td><div class=\"dni-plaintext\">8462585856</div></td><td><div class=\"dni-plaintext\">2903408640</div></td><td><div class=\"dni-plaintext\">12195880960</div></td><td><div class=\"dni-plaintext\">4630278144</div></td><td><div class=\"dni-plaintext\">140737488224256</div></td><td><div class=\"dni-plaintext\">138514004815872</div></td><td><div class=\"dni-plaintext\">56</div></td></tr></tbody></table>"
      ]
     },
     "metadata": {},
     "output_type": "display_data"
    }
   ],
   "source": [
    "let mutable ms = MemoryStatus()\n",
    "GlobalMemoryStatus &ms\n",
    "display ms\n",
    "let m = [ms.pfTotal; ms.pfAvail; ms.total; ms.available; ms.vTotal; ms.vAvail] \n",
    "        |> List.map (fun t -> float t / float (1 <<< 30))\n",
    "let ids = [\"pf\"; \"ph\"; \"ph-free\"; \"ph-used\"]\n",
    "let labels = [\"Файл подкачки\"; \"Физическая\"; \"Свободно\"; \"Занято\"]\n",
    "let parents = [\"\"; \"\"; \"ph\"; \"ph\"; \"pf\"; \"pf\"]\n",
    "let vals = [m[0] - m[2]; m[2]; m[3]; m[2] - m[3]]\n",
    "let vLabels, vVals, vParents = [\"Всего\"; \"Доступно\"; \"Занято\"], [m[4]; m[5]; m[4] - m[5]], [\"\"; \"Всего\"; \"Всего\"]"
   ]
  },
  {
   "cell_type": "markdown",
   "metadata": {},
   "source": [
    "Использование памяти:"
   ]
  },
  {
   "cell_type": "code",
   "execution_count": 11,
   "metadata": {
    "dotnet_interactive": {
     "language": "fsharp"
    },
    "vscode": {
     "languageId": "dotnet-interactive.fsharp"
    }
   },
   "outputs": [
    {
     "data": {
      "text/html": [
       "\n",
       "<div>\n",
       "    <div id=\"b8003960-3bb6-4f81-92ca-48da474e573d\"><!-- Plotly chart will be drawn inside this DIV --></div>\r\n",
       "<script type=\"text/javascript\">\r\n",
       "\r\n",
       "            var renderPlotly_b80039603bb64f8192ca48da474e573d = function() {\r\n",
       "            var fsharpPlotlyRequire = requirejs.config({context:'fsharp-plotly',paths:{plotly:'https://cdn.plot.ly/plotly-2.6.3.min'}}) || require;\r\n",
       "            fsharpPlotlyRequire(['plotly'], function(Plotly) {\r\n",
       "\r\n",
       "            var data = [{\"type\":\"sunburst\",\"ids\":[\"pf\",\"ph\",\"ph-free\",\"ph-used\"],\"parents\":[\"\",\"\",\"ph\",\"ph\",\"pf\",\"pf\"],\"values\":[3.4769020080566406,7.881397247314453,2.704010009765625,5.177387237548828],\"labels\":[\"Файл подкачки\",\"Физическая\",\"Свободно\",\"Занято\"],\"marker\":{\"line\":{}},\"branchvalues\":\"total\"}];\r\n",
       "            var layout = {\"width\":400,\"height\":450,\"template\":{\"layout\":{\"title\":{\"x\":0.05},\"font\":{\"color\":\"rgba(42, 63, 95, 1.0)\"},\"paper_bgcolor\":\"rgba(255, 255, 255, 1.0)\",\"plot_bgcolor\":\"rgba(229, 236, 246, 1.0)\",\"autotypenumbers\":\"strict\",\"colorscale\":{\"diverging\":[[0.0,\"#8e0152\"],[0.1,\"#c51b7d\"],[0.2,\"#de77ae\"],[0.3,\"#f1b6da\"],[0.4,\"#fde0ef\"],[0.5,\"#f7f7f7\"],[0.6,\"#e6f5d0\"],[0.7,\"#b8e186\"],[0.8,\"#7fbc41\"],[0.9,\"#4d9221\"],[1.0,\"#276419\"]],\"sequential\":[[0.0,\"#0d0887\"],[0.1111111111111111,\"#46039f\"],[0.2222222222222222,\"#7201a8\"],[0.3333333333333333,\"#9c179e\"],[0.4444444444444444,\"#bd3786\"],[0.5555555555555556,\"#d8576b\"],[0.6666666666666666,\"#ed7953\"],[0.7777777777777778,\"#fb9f3a\"],[0.8888888888888888,\"#fdca26\"],[1.0,\"#f0f921\"]],\"sequentialminus\":[[0.0,\"#0d0887\"],[0.1111111111111111,\"#46039f\"],[0.2222222222222222,\"#7201a8\"],[0.3333333333333333,\"#9c179e\"],[0.4444444444444444,\"#bd3786\"],[0.5555555555555556,\"#d8576b\"],[0.6666666666666666,\"#ed7953\"],[0.7777777777777778,\"#fb9f3a\"],[0.8888888888888888,\"#fdca26\"],[1.0,\"#f0f921\"]]},\"hovermode\":\"closest\",\"hoverlabel\":{\"align\":\"left\"},\"coloraxis\":{\"colorbar\":{\"outlinewidth\":0.0,\"ticks\":\"\"}},\"geo\":{\"showland\":true,\"landcolor\":\"rgba(229, 236, 246, 1.0)\",\"showlakes\":true,\"lakecolor\":\"rgba(255, 255, 255, 1.0)\",\"subunitcolor\":\"rgba(255, 255, 255, 1.0)\",\"bgcolor\":\"rgba(255, 255, 255, 1.0)\"},\"mapbox\":{\"style\":\"light\"},\"polar\":{\"bgcolor\":\"rgba(229, 236, 246, 1.0)\",\"radialaxis\":{\"linecolor\":\"rgba(255, 255, 255, 1.0)\",\"gridcolor\":\"rgba(255, 255, 255, 1.0)\",\"ticks\":\"\"},\"angularaxis\":{\"linecolor\":\"rgba(255, 255, 255, 1.0)\",\"gridcolor\":\"rgba(255, 255, 255, 1.0)\",\"ticks\":\"\"}},\"scene\":{\"xaxis\":{\"ticks\":\"\",\"linecolor\":\"rgba(255, 255, 255, 1.0)\",\"gridcolor\":\"rgba(255, 255, 255, 1.0)\",\"gridwidth\":2.0,\"zerolinecolor\":\"rgba(255, 255, 255, 1.0)\",\"backgroundcolor\":\"rgba(229, 236, 246, 1.0)\",\"showbackground\":true},\"yaxis\":{\"ticks\":\"\",\"linecolor\":\"rgba(255, 255, 255, 1.0)\",\"gridcolor\":\"rgba(255, 255, 255, 1.0)\",\"gridwidth\":2.0,\"zerolinecolor\":\"rgba(255, 255, 255, 1.0)\",\"backgroundcolor\":\"rgba(229, 236, 246, 1.0)\",\"showbackground\":true},\"zaxis\":{\"ticks\":\"\",\"linecolor\":\"rgba(255, 255, 255, 1.0)\",\"gridcolor\":\"rgba(255, 255, 255, 1.0)\",\"gridwidth\":2.0,\"zerolinecolor\":\"rgba(255, 255, 255, 1.0)\",\"backgroundcolor\":\"rgba(229, 236, 246, 1.0)\",\"showbackground\":true}},\"ternary\":{\"aaxis\":{\"ticks\":\"\",\"linecolor\":\"rgba(255, 255, 255, 1.0)\",\"gridcolor\":\"rgba(255, 255, 255, 1.0)\"},\"baxis\":{\"ticks\":\"\",\"linecolor\":\"rgba(255, 255, 255, 1.0)\",\"gridcolor\":\"rgba(255, 255, 255, 1.0)\"},\"caxis\":{\"ticks\":\"\",\"linecolor\":\"rgba(255, 255, 255, 1.0)\",\"gridcolor\":\"rgba(255, 255, 255, 1.0)\"},\"bgcolor\":\"rgba(229, 236, 246, 1.0)\"},\"xaxis\":{\"title\":{\"standoff\":15},\"ticks\":\"\",\"automargin\":true,\"linecolor\":\"rgba(255, 255, 255, 1.0)\",\"gridcolor\":\"rgba(255, 255, 255, 1.0)\",\"zerolinecolor\":\"rgba(255, 255, 255, 1.0)\",\"zerolinewidth\":2.0},\"yaxis\":{\"title\":{\"standoff\":15},\"ticks\":\"\",\"automargin\":true,\"linecolor\":\"rgba(255, 255, 255, 1.0)\",\"gridcolor\":\"rgba(255, 255, 255, 1.0)\",\"zerolinecolor\":\"rgba(255, 255, 255, 1.0)\",\"zerolinewidth\":2.0},\"annotationdefaults\":{\"arrowcolor\":\"#2a3f5f\",\"arrowhead\":0,\"arrowwidth\":1},\"shapedefaults\":{\"line\":{\"color\":\"rgba(42, 63, 95, 1.0)\"}},\"colorway\":[\"rgba(99, 110, 250, 1.0)\",\"rgba(239, 85, 59, 1.0)\",\"rgba(0, 204, 150, 1.0)\",\"rgba(171, 99, 250, 1.0)\",\"rgba(255, 161, 90, 1.0)\",\"rgba(25, 211, 243, 1.0)\",\"rgba(255, 102, 146, 1.0)\",\"rgba(182, 232, 128, 1.0)\",\"rgba(255, 151, 255, 1.0)\",\"rgba(254, 203, 82, 1.0)\"]},\"data\":{\"bar\":[{\"marker\":{\"line\":{\"color\":\"rgba(229, 236, 246, 1.0)\",\"width\":0.5},\"pattern\":{\"fillmode\":\"overlay\",\"size\":10,\"solidity\":0.2}},\"error_x\":{\"color\":\"rgba(42, 63, 95, 1.0)\"},\"error_y\":{\"color\":\"rgba(42, 63, 95, 1.0)\"}}],\"barpolar\":[{\"marker\":{\"line\":{\"color\":\"rgba(229, 236, 246, 1.0)\",\"width\":0.5},\"pattern\":{\"fillmode\":\"overlay\",\"size\":10,\"solidity\":0.2}}}],\"carpet\":[{\"aaxis\":{\"linecolor\":\"rgba(255, 255, 255, 1.0)\",\"gridcolor\":\"rgba(255, 255, 255, 1.0)\",\"endlinecolor\":\"rgba(42, 63, 95, 1.0)\",\"minorgridcolor\":\"rgba(255, 255, 255, 1.0)\",\"startlinecolor\":\"rgba(42, 63, 95, 1.0)\"},\"baxis\":{\"linecolor\":\"rgba(255, 255, 255, 1.0)\",\"gridcolor\":\"rgba(255, 255, 255, 1.0)\",\"endlinecolor\":\"rgba(42, 63, 95, 1.0)\",\"minorgridcolor\":\"rgba(255, 255, 255, 1.0)\",\"startlinecolor\":\"rgba(42, 63, 95, 1.0)\"}}],\"choropleth\":[{\"colorbar\":{\"outlinewidth\":0.0,\"ticks\":\"\"},\"colorscale\":[[0.0,\"#0d0887\"],[0.1111111111111111,\"#46039f\"],[0.2222222222222222,\"#7201a8\"],[0.3333333333333333,\"#9c179e\"],[0.4444444444444444,\"#bd3786\"],[0.5555555555555556,\"#d8576b\"],[0.6666666666666666,\"#ed7953\"],[0.7777777777777778,\"#fb9f3a\"],[0.8888888888888888,\"#fdca26\"],[1.0,\"#f0f921\"]]}],\"contour\":[{\"colorbar\":{\"outlinewidth\":0.0,\"ticks\":\"\"},\"colorscale\":[[0.0,\"#0d0887\"],[0.1111111111111111,\"#46039f\"],[0.2222222222222222,\"#7201a8\"],[0.3333333333333333,\"#9c179e\"],[0.4444444444444444,\"#bd3786\"],[0.5555555555555556,\"#d8576b\"],[0.6666666666666666,\"#ed7953\"],[0.7777777777777778,\"#fb9f3a\"],[0.8888888888888888,\"#fdca26\"],[1.0,\"#f0f921\"]]}],\"contourcarpet\":[{\"colorbar\":{\"outlinewidth\":0.0,\"ticks\":\"\"}}],\"heatmap\":[{\"colorbar\":{\"outlinewidth\":0.0,\"ticks\":\"\"},\"colorscale\":[[0.0,\"#0d0887\"],[0.1111111111111111,\"#46039f\"],[0.2222222222222222,\"#7201a8\"],[0.3333333333333333,\"#9c179e\"],[0.4444444444444444,\"#bd3786\"],[0.5555555555555556,\"#d8576b\"],[0.6666666666666666,\"#ed7953\"],[0.7777777777777778,\"#fb9f3a\"],[0.8888888888888888,\"#fdca26\"],[1.0,\"#f0f921\"]]}],\"heatmapgl\":[{\"colorbar\":{\"outlinewidth\":0.0,\"ticks\":\"\"},\"colorscale\":[[0.0,\"#0d0887\"],[0.1111111111111111,\"#46039f\"],[0.2222222222222222,\"#7201a8\"],[0.3333333333333333,\"#9c179e\"],[0.4444444444444444,\"#bd3786\"],[0.5555555555555556,\"#d8576b\"],[0.6666666666666666,\"#ed7953\"],[0.7777777777777778,\"#fb9f3a\"],[0.8888888888888888,\"#fdca26\"],[1.0,\"#f0f921\"]]}],\"histogram\":[{\"marker\":{\"pattern\":{\"fillmode\":\"overlay\",\"size\":10,\"solidity\":0.2}}}],\"histogram2d\":[{\"colorbar\":{\"outlinewidth\":0.0,\"ticks\":\"\"},\"colorscale\":[[0.0,\"#0d0887\"],[0.1111111111111111,\"#46039f\"],[0.2222222222222222,\"#7201a8\"],[0.3333333333333333,\"#9c179e\"],[0.4444444444444444,\"#bd3786\"],[0.5555555555555556,\"#d8576b\"],[0.6666666666666666,\"#ed7953\"],[0.7777777777777778,\"#fb9f3a\"],[0.8888888888888888,\"#fdca26\"],[1.0,\"#f0f921\"]]}],\"histogram2dcontour\":[{\"colorbar\":{\"outlinewidth\":0.0,\"ticks\":\"\"},\"colorscale\":[[0.0,\"#0d0887\"],[0.1111111111111111,\"#46039f\"],[0.2222222222222222,\"#7201a8\"],[0.3333333333333333,\"#9c179e\"],[0.4444444444444444,\"#bd3786\"],[0.5555555555555556,\"#d8576b\"],[0.6666666666666666,\"#ed7953\"],[0.7777777777777778,\"#fb9f3a\"],[0.8888888888888888,\"#fdca26\"],[1.0,\"#f0f921\"]]}],\"mesh3d\":[{\"colorbar\":{\"outlinewidth\":0.0,\"ticks\":\"\"}}],\"parcoords\":[{\"line\":{\"colorbar\":{\"outlinewidth\":0.0,\"ticks\":\"\"}}}],\"pie\":[{\"automargin\":true}],\"scatter\":[{\"marker\":{\"colorbar\":{\"outlinewidth\":0.0,\"ticks\":\"\"}}}],\"scatter3d\":[{\"marker\":{\"colorbar\":{\"outlinewidth\":0.0,\"ticks\":\"\"}},\"line\":{\"colorbar\":{\"outlinewidth\":0.0,\"ticks\":\"\"}}}],\"scattercarpet\":[{\"marker\":{\"colorbar\":{\"outlinewidth\":0.0,\"ticks\":\"\"}}}],\"scattergeo\":[{\"marker\":{\"colorbar\":{\"outlinewidth\":0.0,\"ticks\":\"\"}}}],\"scattergl\":[{\"marker\":{\"colorbar\":{\"outlinewidth\":0.0,\"ticks\":\"\"}}}],\"scattermapbox\":[{\"marker\":{\"colorbar\":{\"outlinewidth\":0.0,\"ticks\":\"\"}}}],\"scatterpolar\":[{\"marker\":{\"colorbar\":{\"outlinewidth\":0.0,\"ticks\":\"\"}}}],\"scatterpolargl\":[{\"marker\":{\"colorbar\":{\"outlinewidth\":0.0,\"ticks\":\"\"}}}],\"scatterternary\":[{\"marker\":{\"colorbar\":{\"outlinewidth\":0.0,\"ticks\":\"\"}}}],\"surface\":[{\"colorbar\":{\"outlinewidth\":0.0,\"ticks\":\"\"},\"colorscale\":[[0.0,\"#0d0887\"],[0.1111111111111111,\"#46039f\"],[0.2222222222222222,\"#7201a8\"],[0.3333333333333333,\"#9c179e\"],[0.4444444444444444,\"#bd3786\"],[0.5555555555555556,\"#d8576b\"],[0.6666666666666666,\"#ed7953\"],[0.7777777777777778,\"#fb9f3a\"],[0.8888888888888888,\"#fdca26\"],[1.0,\"#f0f921\"]]}],\"table\":[{\"cells\":{\"fill\":{\"color\":\"rgba(235, 240, 248, 1.0)\"},\"line\":{\"color\":\"rgba(255, 255, 255, 1.0)\"}},\"header\":{\"fill\":{\"color\":\"rgba(200, 212, 227, 1.0)\"},\"line\":{\"color\":\"rgba(255, 255, 255, 1.0)\"}}}]}},\"title\":{\"text\":\"Использование памяти 65%\"},\"margin\":{\"l\":10,\"r\":10,\"t\":75,\"b\":40}};\r\n",
       "            var config = {\"responsive\":true};\r\n",
       "            Plotly.newPlot('b8003960-3bb6-4f81-92ca-48da474e573d', data, layout, config);\r\n",
       "});\r\n",
       "            };\r\n",
       "            if ((typeof(requirejs) !==  typeof(Function)) || (typeof(requirejs.config) !== typeof(Function))) {\r\n",
       "                var script = document.createElement(\"script\");\r\n",
       "                script.setAttribute(\"src\", \"https://cdnjs.cloudflare.com/ajax/libs/require.js/2.3.6/require.min.js\");\r\n",
       "                script.onload = function(){\r\n",
       "                    renderPlotly_b80039603bb64f8192ca48da474e573d();\r\n",
       "                };\r\n",
       "                document.getElementsByTagName(\"head\")[0].appendChild(script);\r\n",
       "            }\r\n",
       "            else {\r\n",
       "                renderPlotly_b80039603bb64f8192ca48da474e573d();\r\n",
       "            }\r\n",
       "</script>\r\n",
       "\n",
       "    \n",
       "</div>    \n"
      ]
     },
     "metadata": {},
     "output_type": "display_data"
    }
   ],
   "source": [
    "Chart.Sunburst(Ids=ids, labels=labels, Values=vals, parents=parents, BranchValues=StyleParam.BranchValues.Total)\n",
    "|> Chart.withTitle $\"Использование памяти {ms.load}{'%'}\" |> Chart.withSize(400, 450) |> Chart.withMarginSize(10, 10, 75, 40)"
   ]
  },
  {
   "cell_type": "markdown",
   "metadata": {},
   "source": [
    "Виртуальное пространство:"
   ]
  },
  {
   "cell_type": "code",
   "execution_count": 12,
   "metadata": {
    "dotnet_interactive": {
     "language": "fsharp"
    },
    "vscode": {
     "languageId": "dotnet-interactive.fsharp"
    }
   },
   "outputs": [
    {
     "data": {
      "text/html": [
       "\n",
       "<div>\n",
       "    <div id=\"7f3ce283-b45c-4958-92df-de3a732f65b9\"><!-- Plotly chart will be drawn inside this DIV --></div>\r\n",
       "<script type=\"text/javascript\">\r\n",
       "\r\n",
       "            var renderPlotly_7f3ce283b45c495892dfde3a732f65b9 = function() {\r\n",
       "            var fsharpPlotlyRequire = requirejs.config({context:'fsharp-plotly',paths:{plotly:'https://cdn.plot.ly/plotly-2.6.3.min'}}) || require;\r\n",
       "            fsharpPlotlyRequire(['plotly'], function(Plotly) {\r\n",
       "\r\n",
       "            var data = [{\"type\":\"sunburst\",\"parents\":[\"\",\"Всего\",\"Всего\"],\"values\":[131071.99987792969,129001.2195854187,2070.7802925109863],\"labels\":[\"Всего\",\"Доступно\",\"Занято\"],\"marker\":{\"line\":{}},\"branchvalues\":\"total\"}];\r\n",
       "            var layout = {\"width\":400,\"height\":450,\"template\":{\"layout\":{\"title\":{\"x\":0.05},\"font\":{\"color\":\"rgba(42, 63, 95, 1.0)\"},\"paper_bgcolor\":\"rgba(255, 255, 255, 1.0)\",\"plot_bgcolor\":\"rgba(229, 236, 246, 1.0)\",\"autotypenumbers\":\"strict\",\"colorscale\":{\"diverging\":[[0.0,\"#8e0152\"],[0.1,\"#c51b7d\"],[0.2,\"#de77ae\"],[0.3,\"#f1b6da\"],[0.4,\"#fde0ef\"],[0.5,\"#f7f7f7\"],[0.6,\"#e6f5d0\"],[0.7,\"#b8e186\"],[0.8,\"#7fbc41\"],[0.9,\"#4d9221\"],[1.0,\"#276419\"]],\"sequential\":[[0.0,\"#0d0887\"],[0.1111111111111111,\"#46039f\"],[0.2222222222222222,\"#7201a8\"],[0.3333333333333333,\"#9c179e\"],[0.4444444444444444,\"#bd3786\"],[0.5555555555555556,\"#d8576b\"],[0.6666666666666666,\"#ed7953\"],[0.7777777777777778,\"#fb9f3a\"],[0.8888888888888888,\"#fdca26\"],[1.0,\"#f0f921\"]],\"sequentialminus\":[[0.0,\"#0d0887\"],[0.1111111111111111,\"#46039f\"],[0.2222222222222222,\"#7201a8\"],[0.3333333333333333,\"#9c179e\"],[0.4444444444444444,\"#bd3786\"],[0.5555555555555556,\"#d8576b\"],[0.6666666666666666,\"#ed7953\"],[0.7777777777777778,\"#fb9f3a\"],[0.8888888888888888,\"#fdca26\"],[1.0,\"#f0f921\"]]},\"hovermode\":\"closest\",\"hoverlabel\":{\"align\":\"left\"},\"coloraxis\":{\"colorbar\":{\"outlinewidth\":0.0,\"ticks\":\"\"}},\"geo\":{\"showland\":true,\"landcolor\":\"rgba(229, 236, 246, 1.0)\",\"showlakes\":true,\"lakecolor\":\"rgba(255, 255, 255, 1.0)\",\"subunitcolor\":\"rgba(255, 255, 255, 1.0)\",\"bgcolor\":\"rgba(255, 255, 255, 1.0)\"},\"mapbox\":{\"style\":\"light\"},\"polar\":{\"bgcolor\":\"rgba(229, 236, 246, 1.0)\",\"radialaxis\":{\"linecolor\":\"rgba(255, 255, 255, 1.0)\",\"gridcolor\":\"rgba(255, 255, 255, 1.0)\",\"ticks\":\"\"},\"angularaxis\":{\"linecolor\":\"rgba(255, 255, 255, 1.0)\",\"gridcolor\":\"rgba(255, 255, 255, 1.0)\",\"ticks\":\"\"}},\"scene\":{\"xaxis\":{\"ticks\":\"\",\"linecolor\":\"rgba(255, 255, 255, 1.0)\",\"gridcolor\":\"rgba(255, 255, 255, 1.0)\",\"gridwidth\":2.0,\"zerolinecolor\":\"rgba(255, 255, 255, 1.0)\",\"backgroundcolor\":\"rgba(229, 236, 246, 1.0)\",\"showbackground\":true},\"yaxis\":{\"ticks\":\"\",\"linecolor\":\"rgba(255, 255, 255, 1.0)\",\"gridcolor\":\"rgba(255, 255, 255, 1.0)\",\"gridwidth\":2.0,\"zerolinecolor\":\"rgba(255, 255, 255, 1.0)\",\"backgroundcolor\":\"rgba(229, 236, 246, 1.0)\",\"showbackground\":true},\"zaxis\":{\"ticks\":\"\",\"linecolor\":\"rgba(255, 255, 255, 1.0)\",\"gridcolor\":\"rgba(255, 255, 255, 1.0)\",\"gridwidth\":2.0,\"zerolinecolor\":\"rgba(255, 255, 255, 1.0)\",\"backgroundcolor\":\"rgba(229, 236, 246, 1.0)\",\"showbackground\":true}},\"ternary\":{\"aaxis\":{\"ticks\":\"\",\"linecolor\":\"rgba(255, 255, 255, 1.0)\",\"gridcolor\":\"rgba(255, 255, 255, 1.0)\"},\"baxis\":{\"ticks\":\"\",\"linecolor\":\"rgba(255, 255, 255, 1.0)\",\"gridcolor\":\"rgba(255, 255, 255, 1.0)\"},\"caxis\":{\"ticks\":\"\",\"linecolor\":\"rgba(255, 255, 255, 1.0)\",\"gridcolor\":\"rgba(255, 255, 255, 1.0)\"},\"bgcolor\":\"rgba(229, 236, 246, 1.0)\"},\"xaxis\":{\"title\":{\"standoff\":15},\"ticks\":\"\",\"automargin\":true,\"linecolor\":\"rgba(255, 255, 255, 1.0)\",\"gridcolor\":\"rgba(255, 255, 255, 1.0)\",\"zerolinecolor\":\"rgba(255, 255, 255, 1.0)\",\"zerolinewidth\":2.0},\"yaxis\":{\"title\":{\"standoff\":15},\"ticks\":\"\",\"automargin\":true,\"linecolor\":\"rgba(255, 255, 255, 1.0)\",\"gridcolor\":\"rgba(255, 255, 255, 1.0)\",\"zerolinecolor\":\"rgba(255, 255, 255, 1.0)\",\"zerolinewidth\":2.0},\"annotationdefaults\":{\"arrowcolor\":\"#2a3f5f\",\"arrowhead\":0,\"arrowwidth\":1},\"shapedefaults\":{\"line\":{\"color\":\"rgba(42, 63, 95, 1.0)\"}},\"colorway\":[\"rgba(99, 110, 250, 1.0)\",\"rgba(239, 85, 59, 1.0)\",\"rgba(0, 204, 150, 1.0)\",\"rgba(171, 99, 250, 1.0)\",\"rgba(255, 161, 90, 1.0)\",\"rgba(25, 211, 243, 1.0)\",\"rgba(255, 102, 146, 1.0)\",\"rgba(182, 232, 128, 1.0)\",\"rgba(255, 151, 255, 1.0)\",\"rgba(254, 203, 82, 1.0)\"]},\"data\":{\"bar\":[{\"marker\":{\"line\":{\"color\":\"rgba(229, 236, 246, 1.0)\",\"width\":0.5},\"pattern\":{\"fillmode\":\"overlay\",\"size\":10,\"solidity\":0.2}},\"error_x\":{\"color\":\"rgba(42, 63, 95, 1.0)\"},\"error_y\":{\"color\":\"rgba(42, 63, 95, 1.0)\"}}],\"barpolar\":[{\"marker\":{\"line\":{\"color\":\"rgba(229, 236, 246, 1.0)\",\"width\":0.5},\"pattern\":{\"fillmode\":\"overlay\",\"size\":10,\"solidity\":0.2}}}],\"carpet\":[{\"aaxis\":{\"linecolor\":\"rgba(255, 255, 255, 1.0)\",\"gridcolor\":\"rgba(255, 255, 255, 1.0)\",\"endlinecolor\":\"rgba(42, 63, 95, 1.0)\",\"minorgridcolor\":\"rgba(255, 255, 255, 1.0)\",\"startlinecolor\":\"rgba(42, 63, 95, 1.0)\"},\"baxis\":{\"linecolor\":\"rgba(255, 255, 255, 1.0)\",\"gridcolor\":\"rgba(255, 255, 255, 1.0)\",\"endlinecolor\":\"rgba(42, 63, 95, 1.0)\",\"minorgridcolor\":\"rgba(255, 255, 255, 1.0)\",\"startlinecolor\":\"rgba(42, 63, 95, 1.0)\"}}],\"choropleth\":[{\"colorbar\":{\"outlinewidth\":0.0,\"ticks\":\"\"},\"colorscale\":[[0.0,\"#0d0887\"],[0.1111111111111111,\"#46039f\"],[0.2222222222222222,\"#7201a8\"],[0.3333333333333333,\"#9c179e\"],[0.4444444444444444,\"#bd3786\"],[0.5555555555555556,\"#d8576b\"],[0.6666666666666666,\"#ed7953\"],[0.7777777777777778,\"#fb9f3a\"],[0.8888888888888888,\"#fdca26\"],[1.0,\"#f0f921\"]]}],\"contour\":[{\"colorbar\":{\"outlinewidth\":0.0,\"ticks\":\"\"},\"colorscale\":[[0.0,\"#0d0887\"],[0.1111111111111111,\"#46039f\"],[0.2222222222222222,\"#7201a8\"],[0.3333333333333333,\"#9c179e\"],[0.4444444444444444,\"#bd3786\"],[0.5555555555555556,\"#d8576b\"],[0.6666666666666666,\"#ed7953\"],[0.7777777777777778,\"#fb9f3a\"],[0.8888888888888888,\"#fdca26\"],[1.0,\"#f0f921\"]]}],\"contourcarpet\":[{\"colorbar\":{\"outlinewidth\":0.0,\"ticks\":\"\"}}],\"heatmap\":[{\"colorbar\":{\"outlinewidth\":0.0,\"ticks\":\"\"},\"colorscale\":[[0.0,\"#0d0887\"],[0.1111111111111111,\"#46039f\"],[0.2222222222222222,\"#7201a8\"],[0.3333333333333333,\"#9c179e\"],[0.4444444444444444,\"#bd3786\"],[0.5555555555555556,\"#d8576b\"],[0.6666666666666666,\"#ed7953\"],[0.7777777777777778,\"#fb9f3a\"],[0.8888888888888888,\"#fdca26\"],[1.0,\"#f0f921\"]]}],\"heatmapgl\":[{\"colorbar\":{\"outlinewidth\":0.0,\"ticks\":\"\"},\"colorscale\":[[0.0,\"#0d0887\"],[0.1111111111111111,\"#46039f\"],[0.2222222222222222,\"#7201a8\"],[0.3333333333333333,\"#9c179e\"],[0.4444444444444444,\"#bd3786\"],[0.5555555555555556,\"#d8576b\"],[0.6666666666666666,\"#ed7953\"],[0.7777777777777778,\"#fb9f3a\"],[0.8888888888888888,\"#fdca26\"],[1.0,\"#f0f921\"]]}],\"histogram\":[{\"marker\":{\"pattern\":{\"fillmode\":\"overlay\",\"size\":10,\"solidity\":0.2}}}],\"histogram2d\":[{\"colorbar\":{\"outlinewidth\":0.0,\"ticks\":\"\"},\"colorscale\":[[0.0,\"#0d0887\"],[0.1111111111111111,\"#46039f\"],[0.2222222222222222,\"#7201a8\"],[0.3333333333333333,\"#9c179e\"],[0.4444444444444444,\"#bd3786\"],[0.5555555555555556,\"#d8576b\"],[0.6666666666666666,\"#ed7953\"],[0.7777777777777778,\"#fb9f3a\"],[0.8888888888888888,\"#fdca26\"],[1.0,\"#f0f921\"]]}],\"histogram2dcontour\":[{\"colorbar\":{\"outlinewidth\":0.0,\"ticks\":\"\"},\"colorscale\":[[0.0,\"#0d0887\"],[0.1111111111111111,\"#46039f\"],[0.2222222222222222,\"#7201a8\"],[0.3333333333333333,\"#9c179e\"],[0.4444444444444444,\"#bd3786\"],[0.5555555555555556,\"#d8576b\"],[0.6666666666666666,\"#ed7953\"],[0.7777777777777778,\"#fb9f3a\"],[0.8888888888888888,\"#fdca26\"],[1.0,\"#f0f921\"]]}],\"mesh3d\":[{\"colorbar\":{\"outlinewidth\":0.0,\"ticks\":\"\"}}],\"parcoords\":[{\"line\":{\"colorbar\":{\"outlinewidth\":0.0,\"ticks\":\"\"}}}],\"pie\":[{\"automargin\":true}],\"scatter\":[{\"marker\":{\"colorbar\":{\"outlinewidth\":0.0,\"ticks\":\"\"}}}],\"scatter3d\":[{\"marker\":{\"colorbar\":{\"outlinewidth\":0.0,\"ticks\":\"\"}},\"line\":{\"colorbar\":{\"outlinewidth\":0.0,\"ticks\":\"\"}}}],\"scattercarpet\":[{\"marker\":{\"colorbar\":{\"outlinewidth\":0.0,\"ticks\":\"\"}}}],\"scattergeo\":[{\"marker\":{\"colorbar\":{\"outlinewidth\":0.0,\"ticks\":\"\"}}}],\"scattergl\":[{\"marker\":{\"colorbar\":{\"outlinewidth\":0.0,\"ticks\":\"\"}}}],\"scattermapbox\":[{\"marker\":{\"colorbar\":{\"outlinewidth\":0.0,\"ticks\":\"\"}}}],\"scatterpolar\":[{\"marker\":{\"colorbar\":{\"outlinewidth\":0.0,\"ticks\":\"\"}}}],\"scatterpolargl\":[{\"marker\":{\"colorbar\":{\"outlinewidth\":0.0,\"ticks\":\"\"}}}],\"scatterternary\":[{\"marker\":{\"colorbar\":{\"outlinewidth\":0.0,\"ticks\":\"\"}}}],\"surface\":[{\"colorbar\":{\"outlinewidth\":0.0,\"ticks\":\"\"},\"colorscale\":[[0.0,\"#0d0887\"],[0.1111111111111111,\"#46039f\"],[0.2222222222222222,\"#7201a8\"],[0.3333333333333333,\"#9c179e\"],[0.4444444444444444,\"#bd3786\"],[0.5555555555555556,\"#d8576b\"],[0.6666666666666666,\"#ed7953\"],[0.7777777777777778,\"#fb9f3a\"],[0.8888888888888888,\"#fdca26\"],[1.0,\"#f0f921\"]]}],\"table\":[{\"cells\":{\"fill\":{\"color\":\"rgba(235, 240, 248, 1.0)\"},\"line\":{\"color\":\"rgba(255, 255, 255, 1.0)\"}},\"header\":{\"fill\":{\"color\":\"rgba(200, 212, 227, 1.0)\"},\"line\":{\"color\":\"rgba(255, 255, 255, 1.0)\"}}}]}},\"title\":{\"text\":\"Виртуальное пространство, ГБ\"},\"margin\":{\"l\":10,\"r\":10,\"t\":75,\"b\":40}};\r\n",
       "            var config = {\"responsive\":true};\r\n",
       "            Plotly.newPlot('7f3ce283-b45c-4958-92df-de3a732f65b9', data, layout, config);\r\n",
       "});\r\n",
       "            };\r\n",
       "            if ((typeof(requirejs) !==  typeof(Function)) || (typeof(requirejs.config) !== typeof(Function))) {\r\n",
       "                var script = document.createElement(\"script\");\r\n",
       "                script.setAttribute(\"src\", \"https://cdnjs.cloudflare.com/ajax/libs/require.js/2.3.6/require.min.js\");\r\n",
       "                script.onload = function(){\r\n",
       "                    renderPlotly_7f3ce283b45c495892dfde3a732f65b9();\r\n",
       "                };\r\n",
       "                document.getElementsByTagName(\"head\")[0].appendChild(script);\r\n",
       "            }\r\n",
       "            else {\r\n",
       "                renderPlotly_7f3ce283b45c495892dfde3a732f65b9();\r\n",
       "            }\r\n",
       "</script>\r\n",
       "\n",
       "    \n",
       "</div>    \n"
      ]
     },
     "metadata": {},
     "output_type": "display_data"
    }
   ],
   "source": [
    "Chart.Sunburst(labels=vLabels, Values=vVals, parents=vParents, BranchValues=StyleParam.BranchValues.Total)\n",
    "|> Chart.withTitle \"Виртуальное пространство, ГБ\" |> Chart.withSize(400, 450) |> Chart.withMarginSize(10, 10, 75, 40)"
   ]
  },
  {
   "cell_type": "markdown",
   "metadata": {},
   "source": [
    "##### Карты виртуальной памяти"
   ]
  },
  {
   "cell_type": "code",
   "execution_count": 13,
   "metadata": {
    "dotnet_interactive": {
     "language": "fsharp"
    },
    "vscode": {
     "languageId": "dotnet-interactive.fsharp"
    }
   },
   "outputs": [
    {
     "data": {
      "text/html": [
       "<table><thead><tr><th><i>index</i></th><th>baseAddr</th><th>allocBase</th><th>protection</th><th>partition</th><th>regionSize</th><th>state</th><th>protect</th><th>pType</th></tr></thead><tbody><tr><td>0</td><td><div class=\"dni-plaintext\">0</div></td><td><div class=\"dni-plaintext\">0</div></td><td><span>0</span></td><td><div class=\"dni-plaintext\">0</div></td><td><div class=\"dni-plaintext\">531169280</div></td><td><span>Free</span></td><td><div class=\"dni-plaintext\">1</div></td><td><span>0</span></td></tr><tr><td>1</td><td><div class=\"dni-plaintext\">531169280</div></td><td><div class=\"dni-plaintext\">531169280</div></td><td><span>RW</span></td><td><div class=\"dni-plaintext\">0</div></td><td><div class=\"dni-plaintext\">4096</div></td><td><span>Committed</span></td><td><div class=\"dni-plaintext\">4</div></td><td><span>Private</span></td></tr><tr><td>2</td><td><div class=\"dni-plaintext\">531173376</div></td><td><div class=\"dni-plaintext\">0</div></td><td><span>0</span></td><td><div class=\"dni-plaintext\">0</div></td><td><div class=\"dni-plaintext\">61440</div></td><td><span>Free</span></td><td><div class=\"dni-plaintext\">1</div></td><td><span>0</span></td></tr><tr><td>3</td><td><div class=\"dni-plaintext\">531234816</div></td><td><div class=\"dni-plaintext\">531234816</div></td><td><span>RW</span></td><td><div class=\"dni-plaintext\">0</div></td><td><div class=\"dni-plaintext\">4096</div></td><td><span>Committed</span></td><td><div class=\"dni-plaintext\">4</div></td><td><span>Private</span></td></tr><tr><td>4</td><td><div class=\"dni-plaintext\">531238912</div></td><td><div class=\"dni-plaintext\">0</div></td><td><span>0</span></td><td><div class=\"dni-plaintext\">0</div></td><td><div class=\"dni-plaintext\">1616113664</div></td><td><span>Free</span></td><td><div class=\"dni-plaintext\">1</div></td><td><span>0</span></td></tr><tr><td>5</td><td><div class=\"dni-plaintext\">2147352576</div></td><td><div class=\"dni-plaintext\">2147352576</div></td><td><span>RO</span></td><td><div class=\"dni-plaintext\">0</div></td><td><div class=\"dni-plaintext\">4096</div></td><td><span>Committed</span></td><td><div class=\"dni-plaintext\">2</div></td><td><span>Private</span></td></tr><tr><td>6</td><td><div class=\"dni-plaintext\">2147356672</div></td><td><div class=\"dni-plaintext\">0</div></td><td><span>0</span></td><td><div class=\"dni-plaintext\">0</div></td><td><div class=\"dni-plaintext\">20480</div></td><td><span>Free</span></td><td><div class=\"dni-plaintext\">1</div></td><td><span>0</span></td></tr><tr><td>7</td><td><div class=\"dni-plaintext\">2147377152</div></td><td><div class=\"dni-plaintext\">2147377152</div></td><td><span>RO</span></td><td><div class=\"dni-plaintext\">0</div></td><td><div class=\"dni-plaintext\">4096</div></td><td><span>Committed</span></td><td><div class=\"dni-plaintext\">2</div></td><td><span>Private</span></td></tr><tr><td>8</td><td><div class=\"dni-plaintext\">2147381248</div></td><td><div class=\"dni-plaintext\">0</div></td><td><span>0</span></td><td><div class=\"dni-plaintext\">0</div></td><td><div class=\"dni-plaintext\">328007258112</div></td><td><span>Free</span></td><td><div class=\"dni-plaintext\">1</div></td><td><span>0</span></td></tr><tr><td>9</td><td><div class=\"dni-plaintext\">330154639360</div></td><td><div class=\"dni-plaintext\">330154639360</div></td><td><span>RW</span></td><td><div class=\"dni-plaintext\">0</div></td><td><div class=\"dni-plaintext\">24576</div></td><td><span>Reserved</span></td><td><div class=\"dni-plaintext\">0</div></td><td><span>Private</span></td></tr><tr><td>10</td><td><div class=\"dni-plaintext\">330154663936</div></td><td><div class=\"dni-plaintext\">330154639360</div></td><td><span>RW</span></td><td><div class=\"dni-plaintext\">0</div></td><td><div class=\"dni-plaintext\">24576</div></td><td><span>Committed</span></td><td><div class=\"dni-plaintext\">4</div></td><td><span>Private</span></td></tr><tr><td>11</td><td><div class=\"dni-plaintext\">330154688512</div></td><td><div class=\"dni-plaintext\">330154639360</div></td><td><span>RW</span></td><td><div class=\"dni-plaintext\">0</div></td><td><div class=\"dni-plaintext\">24576</div></td><td><span>Reserved</span></td><td><div class=\"dni-plaintext\">0</div></td><td><span>Private</span></td></tr><tr><td>12</td><td><div class=\"dni-plaintext\">330154713088</div></td><td><div class=\"dni-plaintext\">330154639360</div></td><td><span>RW</span></td><td><div class=\"dni-plaintext\">0</div></td><td><div class=\"dni-plaintext\">65536</div></td><td><span>Committed</span></td><td><div class=\"dni-plaintext\">4</div></td><td><span>Private</span></td></tr><tr><td>13</td><td><div class=\"dni-plaintext\">330154778624</div></td><td><div class=\"dni-plaintext\">330154639360</div></td><td><span>RW</span></td><td><div class=\"dni-plaintext\">0</div></td><td><div class=\"dni-plaintext\">40960</div></td><td><span>Reserved</span></td><td><div class=\"dni-plaintext\">0</div></td><td><span>Private</span></td></tr><tr><td>14</td><td><div class=\"dni-plaintext\">330154819584</div></td><td><div class=\"dni-plaintext\">330154639360</div></td><td><span>RW</span></td><td><div class=\"dni-plaintext\">0</div></td><td><div class=\"dni-plaintext\">65536</div></td><td><span>Committed</span></td><td><div class=\"dni-plaintext\">4</div></td><td><span>Private</span></td></tr><tr><td>15</td><td><div class=\"dni-plaintext\">330154885120</div></td><td><div class=\"dni-plaintext\">330154639360</div></td><td><span>RW</span></td><td><div class=\"dni-plaintext\">0</div></td><td><div class=\"dni-plaintext\">8192</div></td><td><span>Reserved</span></td><td><div class=\"dni-plaintext\">0</div></td><td><span>Private</span></td></tr><tr><td>16</td><td><div class=\"dni-plaintext\">330154893312</div></td><td><div class=\"dni-plaintext\">330154639360</div></td><td><span>RW</span></td><td><div class=\"dni-plaintext\">0</div></td><td><div class=\"dni-plaintext\">24576</div></td><td><span>Committed</span></td><td><div class=\"dni-plaintext\">4</div></td><td><span>Private</span></td></tr><tr><td>17</td><td><div class=\"dni-plaintext\">330154917888</div></td><td><div class=\"dni-plaintext\">330154639360</div></td><td><span>RW</span></td><td><div class=\"dni-plaintext\">0</div></td><td><div class=\"dni-plaintext\">8192</div></td><td><span>Reserved</span></td><td><div class=\"dni-plaintext\">0</div></td><td><span>Private</span></td></tr><tr><td>18</td><td><div class=\"dni-plaintext\">330154926080</div></td><td><div class=\"dni-plaintext\">330154639360</div></td><td><span>RW</span></td><td><div class=\"dni-plaintext\">0</div></td><td><div class=\"dni-plaintext\">32768</div></td><td><span>Committed</span></td><td><div class=\"dni-plaintext\">4</div></td><td><span>Private</span></td></tr><tr><td>19</td><td><div class=\"dni-plaintext\">330154958848</div></td><td><div class=\"dni-plaintext\">330154639360</div></td><td><span>RW</span></td><td><div class=\"dni-plaintext\">0</div></td><td><div class=\"dni-plaintext\">327680</div></td><td><span>Reserved</span></td><td><div class=\"dni-plaintext\">0</div></td><td><span>Private</span></td></tr><tr><td colspan=\"9\"><i>... (more)</i></td></tr></tbody></table>"
      ]
     },
     "metadata": {},
     "output_type": "display_data"
    }
   ],
   "source": [
    "let proc = OpenProcess(Access.Query, false, 9892u)\n",
    "\n",
    "let mutable info = MemoryInfo()\n",
    "let mutable rSize = 0n\n",
    "let mutable over = -1n\n",
    "\n",
    "seq {\n",
    "    while rSize < (ms.vTotal |> int64 |> hdl) && over <> rSize do\n",
    "        over <- rSize\n",
    "        VirtualQueryEx(proc, rSize, &info, sizeof<MemoryInfo>) |> ignore\n",
    "        rSize <- rSize + info.regionSize\n",
    "        yield info\n",
    "    proc |> CloseHandle |> ignore\n",
    "}"
   ]
  },
  {
   "cell_type": "markdown",
   "metadata": {},
   "source": [
    "# Вывод\n",
    "\n",
    "В результате лабораторной работы мной было выполнено исследование набора функций Win32 API, выполняющих операции с виртуальной памятью в Windows NT."
   ]
  }
 ],
 "metadata": {
  "kernelspec": {
   "display_name": ".NET (F#)",
   "language": "F#",
   "name": ".net-fsharp"
  },
  "language_info": {
   "name": "F#"
  }
 },
 "nbformat": 4,
 "nbformat_minor": 2
}
