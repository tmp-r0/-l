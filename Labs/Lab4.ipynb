{
 "cells": [
  {
   "cell_type": "markdown",
   "metadata": {},
   "source": [
    "# Обмен данными (Лабораторная работа №4, Вариант 24)\n",
    "## Выполнил: студент группы БВТ2001 Хайдаров Адель Фанисович\n",
    "##### Цель работы:\n",
    "* изучение набора средств коммуникации процессов в Windows NT \n",
    "* получение практических навыков по использованию WinAPI для программирования механизмов межпроцессного взаимодействия\n",
    "получение практических навыков использования Win32 API для синхронизации потоков.\n",
    "##### Задание: Реализовать алгоритм блочной сортировки файла целых чисел. Каждый процесс, выполняющий сортировку, получает свою часть файла от ведущего процесса и сортирует его. Ведущий процесс выполняет упорядочивание уже отсортированных блоков. При необходимости ведомым процессам может быть выделено более одного задания на сортировку. "
   ]
  },
  {
   "cell_type": "markdown",
   "metadata": {},
   "source": [
    "### Вспомогательные функции"
   ]
  },
  {
   "cell_type": "code",
   "execution_count": null,
   "metadata": {
    "dotnet_interactive": {
     "language": "fsharp"
    },
    "vscode": {
     "languageId": "dotnet-interactive.fsharp"
    }
   },
   "outputs": [],
   "source": [
    "open System.Runtime.InteropServices\n",
    "open Microsoft.FSharp.NativeInterop\n",
    "open System.Text\n",
    "open System.IO\n",
    "open System\n",
    "\n",
    "let rnd = Random()\n",
    "\n",
    "type dw = uint\n",
    "type lps = StringBuilder\n",
    "type hdl = nativeint\n",
    "\n",
    "let maxLength = 256"
   ]
  },
  {
   "cell_type": "code",
   "execution_count": null,
   "metadata": {
    "dotnet_interactive": {
     "language": "fsharp"
    },
    "vscode": {
     "languageId": "dotnet-interactive.fsharp"
    }
   },
   "outputs": [],
   "source": [
    "let nums = Seq.initInfinite (fun _ -> string <| rnd.Next(-20, 50))\n",
    "File.WriteAllText(\"files/unsorted.txt\", Seq.initInfinite (fun _ -> nums |> Seq.take 5 |> String.concat \" \")\n",
    "                                                             |> Seq.take 60 |> String.concat \"\\n\")"
   ]
  },
  {
   "cell_type": "markdown",
   "metadata": {},
   "source": [
    "### Функции Win32 API\n",
    "Ниже представлены использованные функции Win32 API для получения той или иной информации о системе и для задания некоторых параметров"
   ]
  },
  {
   "cell_type": "code",
   "execution_count": null,
   "metadata": {
    "dotnet_interactive": {
     "language": "fsharp"
    },
    "vscode": {
     "languageId": "dotnet-interactive.fsharp"
    }
   },
   "outputs": [],
   "source": [
    "[<DllImport(\"kernel32.dll\")>] extern dw GetCurrentThreadId()\n",
    "[<DllImport(\"kernel32.dll\")>] extern dw GetCurrentProcessId()\n",
    "[<DllImport(\"kernel32.dll\")>] extern void Sleep(dw ms)\n",
    "\n",
    "let INVALID_HDL = nativeint 0xffffffff\n",
    "\n",
    "type Protection = | RO = 0x02 | RW = 0x04\n",
    "type MemoryAccess = | All = 0xf001fu\n",
    "type FileAccess = | Read = 0x80000000u | Write = 0x40000000u | RW = 0xc0000000u\n",
    "\n",
    "type ShareMode = | Zero = 0 | Read = 1 | Write = 2 | RW = 3\n",
    "type CD = | CreateA = 2 | CreateN = 1 | OpenA = 4 | OpenE = 3\n",
    "\n",
    "type Attribute = | Normal = 0x80\n",
    "\n",
    "[<DllImport(\"kernel32.dll\")>]\n",
    "extern hdl CreateFile(string path, FileAccess acc, ShareMode sm, string, CD, Attribute, hdl)\n",
    "\n",
    "[<DllImport(\"kernel32.dll\")>]\n",
    "extern bool WriteFile(hdl file, string buffer, int length, int, string)\n",
    "\n",
    "[<DllImport(\"kernel32.dll\")>]\n",
    "extern hdl CreateFileMapping(hdl hFile, string sec, Protection px, dw maxSizeH, int maxSizeL, string name)\n",
    "[<DllImport(\"kernel32.dll\")>]\n",
    "extern hdl OpenFileMapping(MemoryAccess access, bool inh, string name)\n",
    "\n",
    "[<DllImport(\"kernel32.dll\")>]\n",
    "extern nativeint MapViewOfFile(hdl hFileM, MemoryAccess access, dw offsetH, dw offsetL, int numberOfBytes)\n",
    "\n",
    "[<DllImport(\"kernel32.dll\")>]\n",
    "extern bool UnmapViewOfFile(hdl hFileM)\n",
    "\n",
    "[<DllImport(\"kernel32.dll\")>]\n",
    "extern hdl CreateMailslot(string name, int size, int timeout, string)\n",
    "\n",
    "[<DllImport(\"kernel32.dll\")>]\n",
    "extern hdl SetNamedPipeHandleState(hdl pipe, dw& mode, dw& maxCount, dw& timeout)\n",
    "\n",
    "// [<DllImport(\"kernel32.dll\")>]\n",
    "// extern hdl CreateMailslot(string name, int size, int timeout, string)\n",
    "\n",
    "[<DllImport(\"kernel32.dll\")>] extern bool CloseHandle(hdl object)\n",
    "\n",
    "[<DllImport(\"kernel32.dll\")>] extern int GetLastError()"
   ]
  },
  {
   "cell_type": "markdown",
   "metadata": {},
   "source": [
    "### Выполнение"
   ]
  },
  {
   "cell_type": "code",
   "execution_count": null,
   "metadata": {
    "dotnet_interactive": {
     "language": "fsharp"
    },
    "vscode": {
     "languageId": "dotnet-interactive.fsharp"
    }
   },
   "outputs": [],
   "source": [
    "let file = @\"files\\unsorted.txt\"\n",
    "let name = @\"Local\\Lab4-num4\"\n",
    "\n",
    "open System.IO.MemoryMappedFiles\n",
    "\n",
    "do\n",
    "use view = MemoryMappedFile.CreateFromFile(@\"files\\abc.jx\", FileMode.Open, \"ImA\")\n",
    "\n",
    "let abc = @\"\\\\.\\mailslot\\chunks\" |> Seq.toArray\n",
    "use ac = view.CreateViewAccessor(15, 140L)\n",
    "\n",
    "ac.WriteArray(0L, abc, 0, abc.Length)\n"
   ]
  },
  {
   "cell_type": "code",
   "execution_count": null,
   "metadata": {
    "dotnet_interactive": {
     "language": "fsharp"
    },
    "vscode": {
     "languageId": "dotnet-interactive.fsharp"
    }
   },
   "outputs": [
    {
     "data": {
      "text/plain": [
       "Sending: [11 31 46 40 -15; -13 -7 49 -18 2; 41 11 41 26 -10; ... ]"
      ]
     },
     "metadata": {},
     "output_type": "display_data"
    },
    {
     "data": {
      "text/plain": [
       "Sending: [-14 -20 -4 29 8; 29 12 -16 39 -17; 6 -10 5 6 7; ... ]"
      ]
     },
     "metadata": {},
     "output_type": "display_data"
    },
    {
     "data": {
      "text/plain": [
       "Sending: [-1 15 19 39 9; -2 4 21 23 11; -6 39 47 -16 38; ... ]"
      ]
     },
     "metadata": {},
     "output_type": "display_data"
    },
    {
     "data": {
      "text/plain": [
       "Sending: [32 25 43 9 -3; -7 43 47 36 8; 48 15 11 34 -11; ... ]"
      ]
     },
     "metadata": {},
     "output_type": "display_data"
    },
    {
     "data": {
      "text/plain": [
       "Sending: [35 39 41 32 48; 8 32 36 47 -8; 15 -17 45 18 24; ... ]"
      ]
     },
     "metadata": {},
     "output_type": "display_data"
    },
    {
     "data": {
      "text/plain": [
       "Sending: [18 -11 8 31 18; 8 -13 46 11 -7; 36 -16 11 -11 27; ... ]"
      ]
     },
     "metadata": {},
     "output_type": "display_data"
    },
    {
     "data": {
      "text/plain": [
       "Sending: [30 -11 47 0 32; 45 21 -9 -18 -12; 5 6 10 40 26; ... ]"
      ]
     },
     "metadata": {},
     "output_type": "display_data"
    },
    {
     "data": {
      "text/plain": [
       "Sending: [38 38 30 29 27; 5 8 -11 41 31; -13 22 38 17 22; ... ]"
      ]
     },
     "metadata": {},
     "output_type": "display_data"
    },
    {
     "data": {
      "text/plain": [
       "Sending: [14 11 -3 45 29; 17 0 17 7 46; 42 1 22 -13 19; ... ]"
      ]
     },
     "metadata": {},
     "output_type": "display_data"
    },
    {
     "data": {
      "text/plain": [
       "Sending: [15 8 24 11 -8; 25 -2 35 -8 30; -5 2 40 13 8; ... ]"
      ]
     },
     "metadata": {},
     "output_type": "display_data"
    }
   ],
   "source": [
    "\n",
    "let content = File.ReadAllLines(file)\n",
    "let fMap = CreateFileMapping(0xffffffff, null, Protection.RW, 0u, maxLength, name)\n",
    "let buffer = MapViewOfFile(fMap, MemoryAccess.All, 0u, 0u, maxLength)\n",
    "\n",
    "let st = @\"\\\\.\\mailslot\\chunks\" |> Seq.toArray\n",
    "Marshal.Copy(st, 0, buffer, st.Length)\n",
    "\n",
    "let slotName = @\"\\\\.\\mailslot\\chunks\"\n",
    "\n",
    "Sleep 4000u\n",
    "\n",
    "let slot = CreateMailslot(slotName, 0, 0xffffffff, null)\n",
    "let fHdl = CreateFile(slotName, FileAccess.Write, ShareMode.Read, null, CD.OpenE, Attribute.Normal, 0n)\n",
    "let writeChunk (data: string) =\n",
    "    if WriteFile(fHdl, data, (data.Length) * sizeof<char>, 0, null) |> not then\n",
    "        failwith \"Write error occured\"\n",
    "let count = 10\n",
    "\n",
    "for t in content |> Seq.splitInto count do\n",
    "    $\"Sending: {t |> Array.toList}\" |> display |> ignore\n",
    "    writeChunk (t |> String.concat \" \")\n",
    "    Sleep 1000u\n",
    "\n",
    "CloseHandle(fHdl); CloseHandle(slot) |> ignore\n",
    "\n",
    "UnmapViewOfFile(buffer); \n",
    "CloseHandle(fMap) |> ignore"
   ]
  },
  {
   "cell_type": "code",
   "execution_count": null,
   "metadata": {
    "dotnet_interactive": {
     "language": "fsharp"
    },
    "vscode": {
     "languageId": "dotnet-interactive.fsharp"
    }
   },
   "outputs": [],
   "source": [
    "GetLastError()"
   ]
  },
  {
   "cell_type": "markdown",
   "metadata": {},
   "source": [
    "##### Отображение файлов"
   ]
  },
  {
   "cell_type": "code",
   "execution_count": null,
   "metadata": {
    "dotnet_interactive": {
     "language": "fsharp"
    },
    "vscode": {
     "languageId": "dotnet-interactive.fsharp"
    }
   },
   "outputs": [],
   "source": [
    "let name = @\"Local\\Lab4-num1\"\n",
    "\n",
    "let fMap = CreateFileMapping(INVALID_HDL, null, Protection.RW, 0u, maxLength, name)\n",
    "let buffer = MapViewOfFile(fMap, MemoryAccess.All, 0u, 0u, maxLength)\n",
    "\n",
    "let content = File.ReadAllLines(file)\n",
    "\n",
    "let st = $\"Длина файла: {content.Length}\" |> Seq.toArray\n",
    "Marshal.Copy(st, 0, buffer, st.Length)\n",
    "\n",
    "Sleep 10000u\n",
    "\n",
    "UnmapViewOfFile(buffer); CloseHandle(fMap) |> ignore"
   ]
  },
  {
   "cell_type": "markdown",
   "metadata": {},
   "source": [
    "##### Почтовые ящики"
   ]
  },
  {
   "cell_type": "markdown",
   "metadata": {},
   "source": [
    "##### Каналы"
   ]
  },
  {
   "cell_type": "markdown",
   "metadata": {},
   "source": [
    "# Вывод\n",
    "\n",
    "В результате лабораторной работы мной была проведена работа с механизмами межпроцессного взаимодействия, используя средства Win32 API."
   ]
  }
 ],
 "metadata": {
  "kernelspec": {
   "display_name": ".NET (F#)",
   "language": "F#",
   "name": ".net-fsharp"
  },
  "language_info": {
   "name": "F#"
  }
 },
 "nbformat": 4,
 "nbformat_minor": 2
}
