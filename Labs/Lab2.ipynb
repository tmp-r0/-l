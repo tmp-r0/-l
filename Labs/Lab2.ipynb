{
 "cells": [
  {
   "cell_type": "markdown",
   "metadata": {},
   "source": [
    "# Процессы и потоки (Лабораторная работа №2)\n",
    "## Выполнил: студент группы БВТ2001 Хайдаров Адель Фанисович\n",
    "##### Цель работы: получение практических навыков использования Win32 API для исследования процессов"
   ]
  },
  {
   "cell_type": "markdown",
   "metadata": {},
   "source": [
    "### Вспомогательные функции"
   ]
  },
  {
   "cell_type": "code",
   "execution_count": null,
   "metadata": {
    "dotnet_interactive": {
     "language": "fsharp"
    },
    "vscode": {
     "languageId": "dotnet-interactive.fsharp"
    }
   },
   "outputs": [],
   "source": [
    "open System.Runtime.InteropServices\n",
    "open System.Text\n",
    "\n",
    "type dw = uint\n",
    "type lps = StringBuilder\n",
    "type hdl = nativeint\n",
    "\n",
    "let mutable maxLength = 260\n",
    "let disp (handle: hdl) = display $\"&H%x{handle}\""
   ]
  },
  {
   "cell_type": "markdown",
   "metadata": {},
   "source": [
    "### Функции Win32 API\n",
    "Ниже представлены использованные функции Win32 API для получения той или иной информации о системе и для задания некоторых параметров"
   ]
  },
  {
   "cell_type": "code",
   "execution_count": null,
   "metadata": {
    "dotnet_interactive": {
     "language": "fsharp"
    },
    "vscode": {
     "languageId": "dotnet-interactive.fsharp"
    }
   },
   "outputs": [],
   "source": [
    "type Access = | Terminate = 1 | Create = 2\n",
    "type Snaps = | HeapList = 1 | Process = 2 | Thread = 4 | Module = 8 | All = 15\n",
    "[<DllImport(\"kernel32.dll\")>] extern dw GetCurrentProcessId()\n",
    "[<DllImport(\"kernel32.dll\")>] extern dw GetModuleFileName(hdl md, lps file, int size)\n",
    "[<DllImport(\"kernel32.dll\")>] extern hdl GetCurrentProcess()\n",
    "[<DllImport(\"kernel32.dll\")>] extern hdl OpenProcess(Access acc, bool inheritHandle, dw OpenProcess)\n",
    "[<DllImport(\"kernel32.dll\")>] extern hdl CreateToolhelp32Snapshot(Snaps flags, dw pid)\n",
    "[<DllImport(\"kernel32.dll\")>] extern hdl CreateMutex(string sec, bool isInitial, string name)\n",
    "[<DllImport(\"kernel32.dll\")>] extern bool GetModuleHandleEx(dw flags, string name, hdl& ph)\n",
    "[<DllImport(\"kernel32.dll\")>] extern bool CloseHandle(hdl object)\n",
    "[<DllImport(\"kernel32.dll\")>]\n",
    "extern void DuplicateHandle(hdl sp, hdl src, hdl tp, hdl& target, dw access, bool inheritHandle, dw options)\n",
    "\n",
    "type ProcessEntry = struct\n",
    "    val mutable size: dw\n",
    "    val usage: dw; val pid: dw; val heapId: nativeint; val moduleId: dw\n",
    "    val threads: dw; val parentId: dw; val priority: dw; val flags: dw\n",
    "    [<MarshalAs(UnmanagedType.ByValTStr, SizeConst = 260)>]\n",
    "    val executable: string\n",
    "end\n",
    "[<DllImport(\"kernel32.dll\")>] extern bool Process32Next(hdl snap, ProcessEntry& entry)\n",
    "\n",
    "type ThreadEntry = struct\n",
    "    val mutable size: dw\n",
    "    val usage: dw; val tid: dw; val ownerId: dw; val basePriority: int\n",
    "    val obs: int; val flags: dw\n",
    "end\n",
    "[<DllImport(\"kernel32.dll\")>] extern bool Thread32Next(hdl snap, ThreadEntry& entry)\n",
    "\n",
    "type ModuleEntry = struct\n",
    "    val mutable size: dw\n",
    "    val mid: dw; val pid: dw; val usage: dw; val procUsage: dw\n",
    "    val baseAddr: nativeint; val baseSize: dw; val hm: hdl\n",
    "    [<MarshalAs(UnmanagedType.ByValTStr, SizeConst = 256)>]\n",
    "    val xModule: string\n",
    "    [<MarshalAs(UnmanagedType.ByValTStr, SizeConst = 260)>]\n",
    "    val executable: string\n",
    "end\n",
    "[<DllImport(\"kernel32.dll\")>] extern bool Module32Next(hdl snap, ModuleEntry& entry)\n",
    "\n",
    "let defaultPEntry = ProcessEntry(size = uint (sizeof<ProcessEntry> + maxLength * 2))\n",
    "let defaultTEntry = ThreadEntry(size = uint sizeof<ThreadEntry>)\n",
    "let defaultMEntry = ModuleEntry(size = uint sizeof<ModuleEntry> + (256u + 260u) * 2u)\n",
    "\n",
    "let getHandle name =\n",
    "    let mutable target = hdl 0\n",
    "    if GetModuleHandleEx(0u, name, &target) |> not then failwith(\"No handle discovered\")\n",
    "    target\n",
    "\n",
    "let getFilename handle =\n",
    "    let mutable sb = lps maxLength\n",
    "    if GetModuleFileName(handle, sb, maxLength) = 0u then failwith(\"Can't locate the executable\")\n",
    "    sb.ToString()\n",
    "\n",
    "let duplicateHdl cph =\n",
    "    let mutable target = hdl 0\n",
    "    let mutex = CreateMutex(null, false, null)\n",
    "    DuplicateHandle(cph, mutex, cph, &target, 0u, false, 0u)\n",
    "    target"
   ]
  },
  {
   "cell_type": "markdown",
   "metadata": {},
   "source": [
    "### Выполнение"
   ]
  },
  {
   "cell_type": "markdown",
   "metadata": {
    "dotnet_interactive": {
     "language": "fsharp"
    }
   },
   "source": [
    "#### Задание 1"
   ]
  },
  {
   "cell_type": "code",
   "execution_count": null,
   "metadata": {
    "dotnet_interactive": {
     "language": "fsharp"
    },
    "vscode": {
     "languageId": "dotnet-interactive.fsharp"
    }
   },
   "outputs": [
    {
     "data": {
      "text/plain": [
       "Для Name='user32':\n",
       "Handle: &H7ffefa710000, FName: C:\\Windows\\System32\\USER32.dll"
      ]
     },
     "metadata": {},
     "output_type": "display_data"
    },
    {
     "data": {
      "text/plain": [
       "Для Name='dotnet.exe':\n",
       "Handle: &H7ff6ffc80000, FName: C:\\Program Files\\dotnet\\dotnet.exe"
      ]
     },
     "metadata": {},
     "output_type": "display_data"
    },
    {
     "data": {
      "text/plain": [
       "FName текущего процесса: C:\\Program Files\\dotnet\\dotnet.exe"
      ]
     },
     "metadata": {},
     "output_type": "display_data"
    }
   ],
   "source": [
    "let h1, h2 = getHandle \"user32\", getHandle \"dotnet.exe\"\n",
    "\n",
    "display $\"Для Name='user32':\\nHandle: &H%x{h1}, FName: {h1 |> getFilename}\"\n",
    "display $\"Для Name='dotnet.exe':\\nHandle: &H%x{h2}, FName: {h2 |> getFilename}\"\n",
    "display $\"FName текущего процесса: {getFilename 0}\""
   ]
  },
  {
   "cell_type": "markdown",
   "metadata": {
    "dotnet_interactive": {
     "language": "fsharp"
    }
   },
   "source": [
    "#### Задание 2"
   ]
  },
  {
   "cell_type": "code",
   "execution_count": null,
   "metadata": {
    "dotnet_interactive": {
     "language": "fsharp"
    },
    "vscode": {
     "languageId": "dotnet-interactive.fsharp"
    }
   },
   "outputs": [
    {
     "data": {
      "text/plain": [
       "Идентификатор текущего процесса: 2944"
      ]
     },
     "metadata": {},
     "output_type": "display_data"
    },
    {
     "data": {
      "text/plain": [
       "Псевдодескриптор текущего процесса: -1"
      ]
     },
     "metadata": {},
     "output_type": "display_data"
    },
    {
     "data": {
      "text/plain": [
       "Дескриптор текущего процесса: 3664"
      ]
     },
     "metadata": {},
     "output_type": "display_data"
    },
    {
     "data": {
      "text/plain": [
       "Открытый дескриптор текущего процесса: 3660"
      ]
     },
     "metadata": {},
     "output_type": "display_data"
    },
    {
     "data": {
      "text/plain": [
       "3664 закрыт"
      ]
     },
     "metadata": {},
     "output_type": "display_data"
    },
    {
     "data": {
      "text/plain": [
       "3660 закрыт"
      ]
     },
     "metadata": {},
     "output_type": "display_data"
    }
   ],
   "source": [
    "let id, ph = GetCurrentProcessId(), GetCurrentProcess()\n",
    "let real = duplicateHdl ph\n",
    "let gp = OpenProcess(Access.Terminate, true, id)\n",
    "\n",
    "display $\"Идентификатор текущего процесса: {id}\"\n",
    "display $\"Псевдодескриптор текущего процесса: {ph}\"\n",
    "display $\"Дескриптор текущего процесса: {real}\"\n",
    "display $\"Открытый дескриптор текущего процесса: {gp}\"\n",
    "\n",
    "// Закрытие дескрипторов\n",
    "for j in [real; gp] do if CloseHandle j then display $\"{j} закрыт\" |> ignore"
   ]
  },
  {
   "cell_type": "markdown",
   "metadata": {
    "dotnet_interactive": {
     "language": "fsharp"
    }
   },
   "source": [
    "#### Задание 3"
   ]
  },
  {
   "cell_type": "markdown",
   "metadata": {
    "dotnet_interactive": {
     "language": "fsharp"
    }
   },
   "source": [
    "Процессы:"
   ]
  },
  {
   "cell_type": "code",
   "execution_count": null,
   "metadata": {
    "dotnet_interactive": {
     "language": "fsharp"
    },
    "vscode": {
     "languageId": "dotnet-interactive.fsharp"
    }
   },
   "outputs": [
    {
     "data": {
      "text/html": [
       "<table><thead><tr><th><i>index</i></th><th>usage</th><th>pid</th><th>heapId</th><th>moduleId</th><th>threads</th><th>parentId</th><th>priority</th><th>flags</th><th>executable</th><th>size</th></tr></thead><tbody><tr><td>0</td><td><div class=\"dni-plaintext\">0</div></td><td><div class=\"dni-plaintext\">0</div></td><td><div class=\"dni-plaintext\">0</div></td><td><div class=\"dni-plaintext\">0</div></td><td><div class=\"dni-plaintext\">8</div></td><td><div class=\"dni-plaintext\">0</div></td><td><div class=\"dni-plaintext\">0</div></td><td><div class=\"dni-plaintext\">0</div></td><td>[System Process]</td><td><div class=\"dni-plaintext\">568</div></td></tr><tr><td>1</td><td><div class=\"dni-plaintext\">0</div></td><td><div class=\"dni-plaintext\">4</div></td><td><div class=\"dni-plaintext\">0</div></td><td><div class=\"dni-plaintext\">0</div></td><td><div class=\"dni-plaintext\">201</div></td><td><div class=\"dni-plaintext\">0</div></td><td><div class=\"dni-plaintext\">8</div></td><td><div class=\"dni-plaintext\">0</div></td><td>System</td><td><div class=\"dni-plaintext\">568</div></td></tr><tr><td>2</td><td><div class=\"dni-plaintext\">0</div></td><td><div class=\"dni-plaintext\">72</div></td><td><div class=\"dni-plaintext\">0</div></td><td><div class=\"dni-plaintext\">0</div></td><td><div class=\"dni-plaintext\">0</div></td><td><div class=\"dni-plaintext\">4</div></td><td><div class=\"dni-plaintext\">8</div></td><td><div class=\"dni-plaintext\">0</div></td><td>Secure System</td><td><div class=\"dni-plaintext\">568</div></td></tr><tr><td>3</td><td><div class=\"dni-plaintext\">0</div></td><td><div class=\"dni-plaintext\">128</div></td><td><div class=\"dni-plaintext\">0</div></td><td><div class=\"dni-plaintext\">0</div></td><td><div class=\"dni-plaintext\">4</div></td><td><div class=\"dni-plaintext\">4</div></td><td><div class=\"dni-plaintext\">8</div></td><td><div class=\"dni-plaintext\">0</div></td><td>Registry</td><td><div class=\"dni-plaintext\">568</div></td></tr><tr><td>4</td><td><div class=\"dni-plaintext\">0</div></td><td><div class=\"dni-plaintext\">424</div></td><td><div class=\"dni-plaintext\">0</div></td><td><div class=\"dni-plaintext\">0</div></td><td><div class=\"dni-plaintext\">2</div></td><td><div class=\"dni-plaintext\">4</div></td><td><div class=\"dni-plaintext\">11</div></td><td><div class=\"dni-plaintext\">0</div></td><td>smss.exe</td><td><div class=\"dni-plaintext\">568</div></td></tr><tr><td>5</td><td><div class=\"dni-plaintext\">0</div></td><td><div class=\"dni-plaintext\">680</div></td><td><div class=\"dni-plaintext\">0</div></td><td><div class=\"dni-plaintext\">0</div></td><td><div class=\"dni-plaintext\">11</div></td><td><div class=\"dni-plaintext\">540</div></td><td><div class=\"dni-plaintext\">13</div></td><td><div class=\"dni-plaintext\">0</div></td><td>csrss.exe</td><td><div class=\"dni-plaintext\">568</div></td></tr><tr><td>6</td><td><div class=\"dni-plaintext\">0</div></td><td><div class=\"dni-plaintext\">760</div></td><td><div class=\"dni-plaintext\">0</div></td><td><div class=\"dni-plaintext\">0</div></td><td><div class=\"dni-plaintext\">1</div></td><td><div class=\"dni-plaintext\">540</div></td><td><div class=\"dni-plaintext\">13</div></td><td><div class=\"dni-plaintext\">0</div></td><td>wininit.exe</td><td><div class=\"dni-plaintext\">568</div></td></tr><tr><td>7</td><td><div class=\"dni-plaintext\">0</div></td><td><div class=\"dni-plaintext\">768</div></td><td><div class=\"dni-plaintext\">0</div></td><td><div class=\"dni-plaintext\">0</div></td><td><div class=\"dni-plaintext\">12</div></td><td><div class=\"dni-plaintext\">752</div></td><td><div class=\"dni-plaintext\">13</div></td><td><div class=\"dni-plaintext\">0</div></td><td>csrss.exe</td><td><div class=\"dni-plaintext\">568</div></td></tr><tr><td>8</td><td><div class=\"dni-plaintext\">0</div></td><td><div class=\"dni-plaintext\">856</div></td><td><div class=\"dni-plaintext\">0</div></td><td><div class=\"dni-plaintext\">0</div></td><td><div class=\"dni-plaintext\">3</div></td><td><div class=\"dni-plaintext\">752</div></td><td><div class=\"dni-plaintext\">13</div></td><td><div class=\"dni-plaintext\">0</div></td><td>winlogon.exe</td><td><div class=\"dni-plaintext\">568</div></td></tr><tr><td>9</td><td><div class=\"dni-plaintext\">0</div></td><td><div class=\"dni-plaintext\">876</div></td><td><div class=\"dni-plaintext\">0</div></td><td><div class=\"dni-plaintext\">0</div></td><td><div class=\"dni-plaintext\">6</div></td><td><div class=\"dni-plaintext\">760</div></td><td><div class=\"dni-plaintext\">9</div></td><td><div class=\"dni-plaintext\">0</div></td><td>services.exe</td><td><div class=\"dni-plaintext\">568</div></td></tr><tr><td>10</td><td><div class=\"dni-plaintext\">0</div></td><td><div class=\"dni-plaintext\">912</div></td><td><div class=\"dni-plaintext\">0</div></td><td><div class=\"dni-plaintext\">0</div></td><td><div class=\"dni-plaintext\">1</div></td><td><div class=\"dni-plaintext\">760</div></td><td><div class=\"dni-plaintext\">8</div></td><td><div class=\"dni-plaintext\">0</div></td><td>LsaIso.exe</td><td><div class=\"dni-plaintext\">568</div></td></tr><tr><td>11</td><td><div class=\"dni-plaintext\">0</div></td><td><div class=\"dni-plaintext\">928</div></td><td><div class=\"dni-plaintext\">0</div></td><td><div class=\"dni-plaintext\">0</div></td><td><div class=\"dni-plaintext\">11</div></td><td><div class=\"dni-plaintext\">760</div></td><td><div class=\"dni-plaintext\">9</div></td><td><div class=\"dni-plaintext\">0</div></td><td>lsass.exe</td><td><div class=\"dni-plaintext\">568</div></td></tr><tr><td>12</td><td><div class=\"dni-plaintext\">0</div></td><td><div class=\"dni-plaintext\">480</div></td><td><div class=\"dni-plaintext\">0</div></td><td><div class=\"dni-plaintext\">0</div></td><td><div class=\"dni-plaintext\">18</div></td><td><div class=\"dni-plaintext\">876</div></td><td><div class=\"dni-plaintext\">8</div></td><td><div class=\"dni-plaintext\">0</div></td><td>svchost.exe</td><td><div class=\"dni-plaintext\">568</div></td></tr><tr><td>13</td><td><div class=\"dni-plaintext\">0</div></td><td><div class=\"dni-plaintext\">8</div></td><td><div class=\"dni-plaintext\">0</div></td><td><div class=\"dni-plaintext\">0</div></td><td><div class=\"dni-plaintext\">5</div></td><td><div class=\"dni-plaintext\">856</div></td><td><div class=\"dni-plaintext\">8</div></td><td><div class=\"dni-plaintext\">0</div></td><td>fontdrvhost.exe</td><td><div class=\"dni-plaintext\">568</div></td></tr><tr><td>14</td><td><div class=\"dni-plaintext\">0</div></td><td><div class=\"dni-plaintext\">520</div></td><td><div class=\"dni-plaintext\">0</div></td><td><div class=\"dni-plaintext\">0</div></td><td><div class=\"dni-plaintext\">5</div></td><td><div class=\"dni-plaintext\">760</div></td><td><div class=\"dni-plaintext\">8</div></td><td><div class=\"dni-plaintext\">0</div></td><td>fontdrvhost.exe</td><td><div class=\"dni-plaintext\">568</div></td></tr><tr><td>15</td><td><div class=\"dni-plaintext\">0</div></td><td><div class=\"dni-plaintext\">1036</div></td><td><div class=\"dni-plaintext\">0</div></td><td><div class=\"dni-plaintext\">0</div></td><td><div class=\"dni-plaintext\">10</div></td><td><div class=\"dni-plaintext\">876</div></td><td><div class=\"dni-plaintext\">13</div></td><td><div class=\"dni-plaintext\">0</div></td><td>WUDFHost.exe</td><td><div class=\"dni-plaintext\">568</div></td></tr><tr><td>16</td><td><div class=\"dni-plaintext\">0</div></td><td><div class=\"dni-plaintext\">1100</div></td><td><div class=\"dni-plaintext\">0</div></td><td><div class=\"dni-plaintext\">0</div></td><td><div class=\"dni-plaintext\">13</div></td><td><div class=\"dni-plaintext\">876</div></td><td><div class=\"dni-plaintext\">8</div></td><td><div class=\"dni-plaintext\">0</div></td><td>svchost.exe</td><td><div class=\"dni-plaintext\">568</div></td></tr><tr><td>17</td><td><div class=\"dni-plaintext\">0</div></td><td><div class=\"dni-plaintext\">1152</div></td><td><div class=\"dni-plaintext\">0</div></td><td><div class=\"dni-plaintext\">0</div></td><td><div class=\"dni-plaintext\">5</div></td><td><div class=\"dni-plaintext\">876</div></td><td><div class=\"dni-plaintext\">8</div></td><td><div class=\"dni-plaintext\">0</div></td><td>svchost.exe</td><td><div class=\"dni-plaintext\">568</div></td></tr><tr><td>18</td><td><div class=\"dni-plaintext\">0</div></td><td><div class=\"dni-plaintext\">1272</div></td><td><div class=\"dni-plaintext\">0</div></td><td><div class=\"dni-plaintext\">0</div></td><td><div class=\"dni-plaintext\">19</div></td><td><div class=\"dni-plaintext\">856</div></td><td><div class=\"dni-plaintext\">13</div></td><td><div class=\"dni-plaintext\">0</div></td><td>dwm.exe</td><td><div class=\"dni-plaintext\">568</div></td></tr><tr><td>19</td><td><div class=\"dni-plaintext\">0</div></td><td><div class=\"dni-plaintext\">1368</div></td><td><div class=\"dni-plaintext\">0</div></td><td><div class=\"dni-plaintext\">0</div></td><td><div class=\"dni-plaintext\">1</div></td><td><div class=\"dni-plaintext\">876</div></td><td><div class=\"dni-plaintext\">8</div></td><td><div class=\"dni-plaintext\">0</div></td><td>svchost.exe</td><td><div class=\"dni-plaintext\">568</div></td></tr><tr><td colspan=\"11\"><i>... (more)</i></td></tr></tbody></table>"
      ]
     },
     "metadata": {},
     "output_type": "display_data"
    }
   ],
   "source": [
    "let mutable snap = CreateToolhelp32Snapshot(Snaps.Process, 0u)\n",
    "let mutable entry, hasNext = defaultPEntry, true\n",
    "seq {\n",
    "    while hasNext do\n",
    "        hasNext <- Process32Next(snap, &entry)\n",
    "        entry\n",
    "}"
   ]
  },
  {
   "cell_type": "markdown",
   "metadata": {
    "dotnet_interactive": {
     "language": "fsharp"
    }
   },
   "source": [
    "Потоки:"
   ]
  },
  {
   "cell_type": "code",
   "execution_count": null,
   "metadata": {
    "dotnet_interactive": {
     "language": "fsharp"
    },
    "vscode": {
     "languageId": "dotnet-interactive.fsharp"
    }
   },
   "outputs": [
    {
     "data": {
      "text/html": [
       "<table><thead><tr><th><i>index</i></th><th>usage</th><th>tid</th><th>ownerId</th><th>basePriority</th><th>obs</th><th>flags</th><th>size</th></tr></thead><tbody><tr><td>0</td><td><div class=\"dni-plaintext\">0</div></td><td><div class=\"dni-plaintext\">0</div></td><td><div class=\"dni-plaintext\">0</div></td><td><div class=\"dni-plaintext\">0</div></td><td><div class=\"dni-plaintext\">0</div></td><td><div class=\"dni-plaintext\">0</div></td><td><div class=\"dni-plaintext\">28</div></td></tr><tr><td>1</td><td><div class=\"dni-plaintext\">0</div></td><td><div class=\"dni-plaintext\">0</div></td><td><div class=\"dni-plaintext\">0</div></td><td><div class=\"dni-plaintext\">0</div></td><td><div class=\"dni-plaintext\">0</div></td><td><div class=\"dni-plaintext\">0</div></td><td><div class=\"dni-plaintext\">28</div></td></tr><tr><td>2</td><td><div class=\"dni-plaintext\">0</div></td><td><div class=\"dni-plaintext\">0</div></td><td><div class=\"dni-plaintext\">0</div></td><td><div class=\"dni-plaintext\">0</div></td><td><div class=\"dni-plaintext\">0</div></td><td><div class=\"dni-plaintext\">0</div></td><td><div class=\"dni-plaintext\">28</div></td></tr><tr><td>3</td><td><div class=\"dni-plaintext\">0</div></td><td><div class=\"dni-plaintext\">0</div></td><td><div class=\"dni-plaintext\">0</div></td><td><div class=\"dni-plaintext\">0</div></td><td><div class=\"dni-plaintext\">0</div></td><td><div class=\"dni-plaintext\">0</div></td><td><div class=\"dni-plaintext\">28</div></td></tr><tr><td>4</td><td><div class=\"dni-plaintext\">0</div></td><td><div class=\"dni-plaintext\">44</div></td><td><div class=\"dni-plaintext\">0</div></td><td><div class=\"dni-plaintext\">0</div></td><td><div class=\"dni-plaintext\">0</div></td><td><div class=\"dni-plaintext\">0</div></td><td><div class=\"dni-plaintext\">28</div></td></tr><tr><td>5</td><td><div class=\"dni-plaintext\">0</div></td><td><div class=\"dni-plaintext\">52</div></td><td><div class=\"dni-plaintext\">0</div></td><td><div class=\"dni-plaintext\">0</div></td><td><div class=\"dni-plaintext\">0</div></td><td><div class=\"dni-plaintext\">0</div></td><td><div class=\"dni-plaintext\">28</div></td></tr><tr><td>6</td><td><div class=\"dni-plaintext\">0</div></td><td><div class=\"dni-plaintext\">60</div></td><td><div class=\"dni-plaintext\">0</div></td><td><div class=\"dni-plaintext\">0</div></td><td><div class=\"dni-plaintext\">0</div></td><td><div class=\"dni-plaintext\">0</div></td><td><div class=\"dni-plaintext\">28</div></td></tr><tr><td>7</td><td><div class=\"dni-plaintext\">0</div></td><td><div class=\"dni-plaintext\">68</div></td><td><div class=\"dni-plaintext\">0</div></td><td><div class=\"dni-plaintext\">0</div></td><td><div class=\"dni-plaintext\">0</div></td><td><div class=\"dni-plaintext\">0</div></td><td><div class=\"dni-plaintext\">28</div></td></tr><tr><td>8</td><td><div class=\"dni-plaintext\">0</div></td><td><div class=\"dni-plaintext\">12</div></td><td><div class=\"dni-plaintext\">4</div></td><td><div class=\"dni-plaintext\">13</div></td><td><div class=\"dni-plaintext\">0</div></td><td><div class=\"dni-plaintext\">0</div></td><td><div class=\"dni-plaintext\">28</div></td></tr><tr><td>9</td><td><div class=\"dni-plaintext\">0</div></td><td><div class=\"dni-plaintext\">16</div></td><td><div class=\"dni-plaintext\">4</div></td><td><div class=\"dni-plaintext\">13</div></td><td><div class=\"dni-plaintext\">0</div></td><td><div class=\"dni-plaintext\">0</div></td><td><div class=\"dni-plaintext\">28</div></td></tr><tr><td>10</td><td><div class=\"dni-plaintext\">0</div></td><td><div class=\"dni-plaintext\">20</div></td><td><div class=\"dni-plaintext\">4</div></td><td><div class=\"dni-plaintext\">13</div></td><td><div class=\"dni-plaintext\">0</div></td><td><div class=\"dni-plaintext\">0</div></td><td><div class=\"dni-plaintext\">28</div></td></tr><tr><td>11</td><td><div class=\"dni-plaintext\">0</div></td><td><div class=\"dni-plaintext\">24</div></td><td><div class=\"dni-plaintext\">4</div></td><td><div class=\"dni-plaintext\">16</div></td><td><div class=\"dni-plaintext\">0</div></td><td><div class=\"dni-plaintext\">0</div></td><td><div class=\"dni-plaintext\">28</div></td></tr><tr><td>12</td><td><div class=\"dni-plaintext\">0</div></td><td><div class=\"dni-plaintext\">28</div></td><td><div class=\"dni-plaintext\">4</div></td><td><div class=\"dni-plaintext\">12</div></td><td><div class=\"dni-plaintext\">0</div></td><td><div class=\"dni-plaintext\">0</div></td><td><div class=\"dni-plaintext\">28</div></td></tr><tr><td>13</td><td><div class=\"dni-plaintext\">0</div></td><td><div class=\"dni-plaintext\">36</div></td><td><div class=\"dni-plaintext\">4</div></td><td><div class=\"dni-plaintext\">8</div></td><td><div class=\"dni-plaintext\">0</div></td><td><div class=\"dni-plaintext\">0</div></td><td><div class=\"dni-plaintext\">28</div></td></tr><tr><td>14</td><td><div class=\"dni-plaintext\">0</div></td><td><div class=\"dni-plaintext\">40</div></td><td><div class=\"dni-plaintext\">4</div></td><td><div class=\"dni-plaintext\">8</div></td><td><div class=\"dni-plaintext\">0</div></td><td><div class=\"dni-plaintext\">0</div></td><td><div class=\"dni-plaintext\">28</div></td></tr><tr><td>15</td><td><div class=\"dni-plaintext\">0</div></td><td><div class=\"dni-plaintext\">48</div></td><td><div class=\"dni-plaintext\">4</div></td><td><div class=\"dni-plaintext\">8</div></td><td><div class=\"dni-plaintext\">0</div></td><td><div class=\"dni-plaintext\">0</div></td><td><div class=\"dni-plaintext\">28</div></td></tr><tr><td>16</td><td><div class=\"dni-plaintext\">0</div></td><td><div class=\"dni-plaintext\">56</div></td><td><div class=\"dni-plaintext\">4</div></td><td><div class=\"dni-plaintext\">8</div></td><td><div class=\"dni-plaintext\">0</div></td><td><div class=\"dni-plaintext\">0</div></td><td><div class=\"dni-plaintext\">28</div></td></tr><tr><td>17</td><td><div class=\"dni-plaintext\">0</div></td><td><div class=\"dni-plaintext\">64</div></td><td><div class=\"dni-plaintext\">4</div></td><td><div class=\"dni-plaintext\">8</div></td><td><div class=\"dni-plaintext\">0</div></td><td><div class=\"dni-plaintext\">0</div></td><td><div class=\"dni-plaintext\">28</div></td></tr><tr><td>18</td><td><div class=\"dni-plaintext\">0</div></td><td><div class=\"dni-plaintext\">80</div></td><td><div class=\"dni-plaintext\">4</div></td><td><div class=\"dni-plaintext\">8</div></td><td><div class=\"dni-plaintext\">0</div></td><td><div class=\"dni-plaintext\">0</div></td><td><div class=\"dni-plaintext\">28</div></td></tr><tr><td>19</td><td><div class=\"dni-plaintext\">0</div></td><td><div class=\"dni-plaintext\">88</div></td><td><div class=\"dni-plaintext\">4</div></td><td><div class=\"dni-plaintext\">8</div></td><td><div class=\"dni-plaintext\">0</div></td><td><div class=\"dni-plaintext\">0</div></td><td><div class=\"dni-plaintext\">28</div></td></tr><tr><td colspan=\"8\"><i>... (more)</i></td></tr></tbody></table>"
      ]
     },
     "metadata": {},
     "output_type": "display_data"
    }
   ],
   "source": [
    "let mutable snap = CreateToolhelp32Snapshot(Snaps.Thread, 0u)\n",
    "let mutable entry, hasNext = defaultTEntry, true\n",
    "seq {\n",
    "    while hasNext do\n",
    "        hasNext <- Thread32Next(snap, &entry)\n",
    "        entry\n",
    "}"
   ]
  },
  {
   "cell_type": "markdown",
   "metadata": {
    "dotnet_interactive": {
     "language": "fsharp"
    }
   },
   "source": [
    "Модули:"
   ]
  },
  {
   "cell_type": "code",
   "execution_count": null,
   "metadata": {
    "dotnet_interactive": {
     "language": "fsharp"
    },
    "vscode": {
     "languageId": "dotnet-interactive.fsharp"
    }
   },
   "outputs": [
    {
     "data": {
      "text/html": [
       "<table><thead><tr><th><i>index</i></th><th>mid</th><th>pid</th><th>usage</th><th>procUsage</th><th>baseAddr</th><th>baseSize</th><th>hm</th><th>xModule</th><th>executable</th><th>size</th></tr></thead><tbody><tr><td>0</td><td><div class=\"dni-plaintext\">1</div></td><td><div class=\"dni-plaintext\">0</div></td><td><div class=\"dni-plaintext\">65535</div></td><td><div class=\"dni-plaintext\">65535</div></td><td><div class=\"dni-plaintext\">140698829979648</div></td><td><div class=\"dni-plaintext\">151552</div></td><td><div class=\"dni-plaintext\">140698829979648</div></td><td>dotnet.exe</td><td>C:\\Program Files\\dotnet\\dotnet.exe</td><td><div class=\"dni-plaintext\">1088</div></td></tr><tr><td>1</td><td><div class=\"dni-plaintext\">1</div></td><td><div class=\"dni-plaintext\">0</div></td><td><div class=\"dni-plaintext\">65535</div></td><td><div class=\"dni-plaintext\">65535</div></td><td><div class=\"dni-plaintext\">140733118545920</div></td><td><div class=\"dni-plaintext\">2134016</div></td><td><div class=\"dni-plaintext\">140733118545920</div></td><td>ntdll.dll</td><td>C:\\Windows\\SYSTEM32\\ntdll.dll</td><td><div class=\"dni-plaintext\">1088</div></td></tr><tr><td>2</td><td><div class=\"dni-plaintext\">1</div></td><td><div class=\"dni-plaintext\">0</div></td><td><div class=\"dni-plaintext\">65535</div></td><td><div class=\"dni-plaintext\">65535</div></td><td><div class=\"dni-plaintext\">140733102424064</div></td><td><div class=\"dni-plaintext\">774144</div></td><td><div class=\"dni-plaintext\">140733102424064</div></td><td>KERNEL32.DLL</td><td>C:\\Windows\\System32\\KERNEL32.DLL</td><td><div class=\"dni-plaintext\">1088</div></td></tr><tr><td>3</td><td><div class=\"dni-plaintext\">1</div></td><td><div class=\"dni-plaintext\">0</div></td><td><div class=\"dni-plaintext\">65535</div></td><td><div class=\"dni-plaintext\">65535</div></td><td><div class=\"dni-plaintext\">140733076144128</div></td><td><div class=\"dni-plaintext\">3653632</div></td><td><div class=\"dni-plaintext\">140733076144128</div></td><td>KERNELBASE.dll</td><td>C:\\Windows\\System32\\KERNELBASE.dll</td><td><div class=\"dni-plaintext\">1088</div></td></tr><tr><td>4</td><td><div class=\"dni-plaintext\">1</div></td><td><div class=\"dni-plaintext\">0</div></td><td><div class=\"dni-plaintext\">1</div></td><td><div class=\"dni-plaintext\">1</div></td><td><div class=\"dni-plaintext\">140733079814144</div></td><td><div class=\"dni-plaintext\">1118208</div></td><td><div class=\"dni-plaintext\">140733079814144</div></td><td>ucrtbase.dll</td><td>C:\\Windows\\System32\\ucrtbase.dll</td><td><div class=\"dni-plaintext\">1088</div></td></tr><tr><td>5</td><td><div class=\"dni-plaintext\">1</div></td><td><div class=\"dni-plaintext\">0</div></td><td><div class=\"dni-plaintext\">65535</div></td><td><div class=\"dni-plaintext\">65535</div></td><td><div class=\"dni-plaintext\">140730624770048</div></td><td><div class=\"dni-plaintext\">389120</div></td><td><div class=\"dni-plaintext\">140730624770048</div></td><td>hostfxr.dll</td><td>C:\\Program Files\\dotnet\\host\\fxr\\6.0.5\\hostfxr.dll</td><td><div class=\"dni-plaintext\">1088</div></td></tr><tr><td>6</td><td><div class=\"dni-plaintext\">1</div></td><td><div class=\"dni-plaintext\">0</div></td><td><div class=\"dni-plaintext\">65535</div></td><td><div class=\"dni-plaintext\">65535</div></td><td><div class=\"dni-plaintext\">140733103865856</div></td><td><div class=\"dni-plaintext\">712704</div></td><td><div class=\"dni-plaintext\">140733103865856</div></td><td>ADVAPI32.dll</td><td>C:\\Windows\\System32\\ADVAPI32.dll</td><td><div class=\"dni-plaintext\">1088</div></td></tr><tr><td>7</td><td><div class=\"dni-plaintext\">1</div></td><td><div class=\"dni-plaintext\">0</div></td><td><div class=\"dni-plaintext\">65535</div></td><td><div class=\"dni-plaintext\">65535</div></td><td><div class=\"dni-plaintext\">140733098098688</div></td><td><div class=\"dni-plaintext\">667648</div></td><td><div class=\"dni-plaintext\">140733098098688</div></td><td>msvcrt.dll</td><td>C:\\Windows\\System32\\msvcrt.dll</td><td><div class=\"dni-plaintext\">1088</div></td></tr><tr><td>8</td><td><div class=\"dni-plaintext\">1</div></td><td><div class=\"dni-plaintext\">0</div></td><td><div class=\"dni-plaintext\">65535</div></td><td><div class=\"dni-plaintext\">65535</div></td><td><div class=\"dni-plaintext\">140733103210496</div></td><td><div class=\"dni-plaintext\">647168</div></td><td><div class=\"dni-plaintext\">140733103210496</div></td><td>sechost.dll</td><td>C:\\Windows\\System32\\sechost.dll</td><td><div class=\"dni-plaintext\">1088</div></td></tr><tr><td>9</td><td><div class=\"dni-plaintext\">1</div></td><td><div class=\"dni-plaintext\">0</div></td><td><div class=\"dni-plaintext\">65535</div></td><td><div class=\"dni-plaintext\">65535</div></td><td><div class=\"dni-plaintext\">140733098819584</div></td><td><div class=\"dni-plaintext\">1179648</div></td><td><div class=\"dni-plaintext\">140733098819584</div></td><td>RPCRT4.dll</td><td>C:\\Windows\\System32\\RPCRT4.dll</td><td><div class=\"dni-plaintext\">1088</div></td></tr><tr><td>10</td><td><div class=\"dni-plaintext\">1</div></td><td><div class=\"dni-plaintext\">0</div></td><td><div class=\"dni-plaintext\">65535</div></td><td><div class=\"dni-plaintext\">65535</div></td><td><div class=\"dni-plaintext\">140730624311296</div></td><td><div class=\"dni-plaintext\">405504</div></td><td><div class=\"dni-plaintext\">140730624311296</div></td><td>hostpolicy.dll</td><td>C:\\Program Files\\dotnet\\shared\\Microsoft.NETCore.App\\6.0.5\\hostpolicy.dll</td><td><div class=\"dni-plaintext\">1088</div></td></tr><tr><td>11</td><td><div class=\"dni-plaintext\">1</div></td><td><div class=\"dni-plaintext\">0</div></td><td><div class=\"dni-plaintext\">65535</div></td><td><div class=\"dni-plaintext\">65535</div></td><td><div class=\"dni-plaintext\">140730619068416</div></td><td><div class=\"dni-plaintext\">5226496</div></td><td><div class=\"dni-plaintext\">140730619068416</div></td><td>coreclr.dll</td><td>C:\\Program Files\\dotnet\\shared\\Microsoft.NETCore.App\\6.0.5\\coreclr.dll</td><td><div class=\"dni-plaintext\">1088</div></td></tr><tr><td>12</td><td><div class=\"dni-plaintext\">1</div></td><td><div class=\"dni-plaintext\">0</div></td><td><div class=\"dni-plaintext\">65535</div></td><td><div class=\"dni-plaintext\">65535</div></td><td><div class=\"dni-plaintext\">140733114548224</div></td><td><div class=\"dni-plaintext\">1679360</div></td><td><div class=\"dni-plaintext\">140733114548224</div></td><td>ole32.dll</td><td>C:\\Windows\\System32\\ole32.dll</td><td><div class=\"dni-plaintext\">1088</div></td></tr><tr><td>13</td><td><div class=\"dni-plaintext\">1</div></td><td><div class=\"dni-plaintext\">0</div></td><td><div class=\"dni-plaintext\">65535</div></td><td><div class=\"dni-plaintext\">65535</div></td><td><div class=\"dni-plaintext\">140733075292160</div></td><td><div class=\"dni-plaintext\">643072</div></td><td><div class=\"dni-plaintext\">140733075292160</div></td><td>msvcp_win.dll</td><td>C:\\Windows\\System32\\msvcp_win.dll</td><td><div class=\"dni-plaintext\">1088</div></td></tr><tr><td>14</td><td><div class=\"dni-plaintext\">1</div></td><td><div class=\"dni-plaintext\">0</div></td><td><div class=\"dni-plaintext\">65535</div></td><td><div class=\"dni-plaintext\">65535</div></td><td><div class=\"dni-plaintext\">140733118087168</div></td><td><div class=\"dni-plaintext\">167936</div></td><td><div class=\"dni-plaintext\">140733118087168</div></td><td>GDI32.dll</td><td>C:\\Windows\\System32\\GDI32.dll</td><td><div class=\"dni-plaintext\">1088</div></td></tr><tr><td>15</td><td><div class=\"dni-plaintext\">1</div></td><td><div class=\"dni-plaintext\">0</div></td><td><div class=\"dni-plaintext\">65535</div></td><td><div class=\"dni-plaintext\">65535</div></td><td><div class=\"dni-plaintext\">140733075947520</div></td><td><div class=\"dni-plaintext\">155648</div></td><td><div class=\"dni-plaintext\">140733075947520</div></td><td>win32u.dll</td><td>C:\\Windows\\System32\\win32u.dll</td><td><div class=\"dni-plaintext\">1088</div></td></tr><tr><td>16</td><td><div class=\"dni-plaintext\">1</div></td><td><div class=\"dni-plaintext\">0</div></td><td><div class=\"dni-plaintext\">65535</div></td><td><div class=\"dni-plaintext\">65535</div></td><td><div class=\"dni-plaintext\">140733081780224</div></td><td><div class=\"dni-plaintext\">1150976</div></td><td><div class=\"dni-plaintext\">140733081780224</div></td><td>gdi32full.dll</td><td>C:\\Windows\\System32\\gdi32full.dll</td><td><div class=\"dni-plaintext\">1088</div></td></tr><tr><td>17</td><td><div class=\"dni-plaintext\">1</div></td><td><div class=\"dni-plaintext\">0</div></td><td><div class=\"dni-plaintext\">65535</div></td><td><div class=\"dni-plaintext\">65535</div></td><td><div class=\"dni-plaintext\">140733100130304</div></td><td><div class=\"dni-plaintext\">1757184</div></td><td><div class=\"dni-plaintext\">140733100130304</div></td><td>USER32.dll</td><td>C:\\Windows\\System32\\USER32.dll</td><td><div class=\"dni-plaintext\">1088</div></td></tr><tr><td>18</td><td><div class=\"dni-plaintext\">1</div></td><td><div class=\"dni-plaintext\">0</div></td><td><div class=\"dni-plaintext\">65535</div></td><td><div class=\"dni-plaintext\">65535</div></td><td><div class=\"dni-plaintext\">140733110878208</div></td><td><div class=\"dni-plaintext\">3641344</div></td><td><div class=\"dni-plaintext\">140733110878208</div></td><td>combase.dll</td><td>C:\\Windows\\System32\\combase.dll</td><td><div class=\"dni-plaintext\">1088</div></td></tr><tr><td>19</td><td><div class=\"dni-plaintext\">1</div></td><td><div class=\"dni-plaintext\">0</div></td><td><div class=\"dni-plaintext\">65535</div></td><td><div class=\"dni-plaintext\">65535</div></td><td><div class=\"dni-plaintext\">140733087219712</div></td><td><div class=\"dni-plaintext\">876544</div></td><td><div class=\"dni-plaintext\">140733087219712</div></td><td>OLEAUT32.dll</td><td>C:\\Windows\\System32\\OLEAUT32.dll</td><td><div class=\"dni-plaintext\">1088</div></td></tr><tr><td colspan=\"11\"><i>... (more)</i></td></tr></tbody></table>"
      ]
     },
     "metadata": {},
     "output_type": "display_data"
    }
   ],
   "source": [
    "let mutable snap = CreateToolhelp32Snapshot(Snaps.Module, 0u)\n",
    "let mutable entry, hasNext = defaultMEntry, true\n",
    "seq {\n",
    "    while hasNext do\n",
    "        hasNext <- Module32Next(snap, &entry)\n",
    "        entry\n",
    "}"
   ]
  },
  {
   "cell_type": "markdown",
   "metadata": {
    "dotnet_interactive": {
     "language": "fsharp"
    }
   },
   "source": [
    "Драйверы устройств:"
   ]
  },
  {
   "cell_type": "code",
   "execution_count": null,
   "metadata": {
    "dotnet_interactive": {
     "language": "fsharp"
    },
    "vscode": {
     "languageId": "dotnet-interactive.fsharp"
    }
   },
   "outputs": [
    {
     "name": "stdout",
     "output_type": "stream",
     "text": [
      "1574961152\r\n",
      "4294965248\r\n",
      "1512177664\r\n",
      "4294965248\r\n",
      "1512243200\r\n",
      "4294965248\r\n",
      "1512505344\r\n",
      "4294965248\r\n",
      "1512308736\r\n",
      "4294965248\r\n",
      "1512964096\r\n",
      "4294965248\r\n",
      "1513095168\r\n",
      "4294965248\r\n",
      "1514340352\r\n",
      "4294965248\r\n",
      "1515061248\r\n",
      "4294965248\r\n",
      "1514864640\r\n",
      "4294965248\r\n",
      "1513160704\r\n",
      "4294965248\r\n",
      "1515520000\r\n",
      "4294965248\r\n",
      "1515585536\r\n",
      "4294965248\r\n",
      "1515716608\r\n",
      "4294965248\r\n",
      "1608515584\r\n",
      "4294965248\r\n",
      "1609498624\r\n",
      "4294965248\r\n",
      "1610285056\r\n",
      "4294965248\r\n",
      "1515782144\r\n",
      "4294965248\r\n",
      "1515913216\r\n",
      "4294965248\r\n",
      "1515978752\r\n",
      "4294965248\r\n",
      "1611202560\r\n",
      "4294965248\r\n",
      "1611333632\r\n",
      "4294965248\r\n",
      "1611726848\r\n",
      "4294965248\r\n",
      "1611857920\r\n",
      "4294965248\r\n",
      "1611923456\r\n",
      "4294965248\r\n",
      "1613103104\r\n",
      "4294965248\r\n",
      "1613955072\r\n",
      "4294965248\r\n",
      "1614020608\r\n",
      "4294965248\r\n",
      "1614086144\r\n",
      "4294965248\r\n",
      "1614675968\r\n",
      "4294965248\r\n",
      "1615200256\r\n",
      "4294965248\r\n",
      "1615724544\r\n",
      "4294965248\r\n",
      "1615855616\r\n",
      "4294965248\r\n",
      "1615986688\r\n",
      "4294965248\r\n",
      "1616052224\r\n",
      "4294965248\r\n",
      "1616183296\r\n",
      "4294965248\r\n",
      "1616314368\r\n",
      "4294965248\r\n",
      "1616510976\r\n",
      "4294965248\r\n",
      "1616642048\r\n",
      "4294965248\r\n",
      "1616904192\r\n",
      "4294965248\r\n",
      "1617756160\r\n",
      "4294965248\r\n",
      "1617887232\r\n",
      "4294965248\r\n",
      "1618345984\r\n",
      "4294965248\r\n",
      "1618477056\r\n",
      "4294965248\r\n",
      "1619656704\r\n",
      "4294965248\r\n",
      "1620639744\r\n",
      "4294965248\r\n",
      "1620836352\r\n",
      "4294965248\r\n",
      "1620967424\r\n",
      "4294965248\r\n",
      "1621295104\r\n",
      "4294965248\r\n",
      "1621819392\r\n",
      "4294965248\r\n",
      "1625096192\r\n",
      "4294965248\r\n",
      "1625161728\r\n",
      "4294965248\r\n",
      "1626800128\r\n",
      "4294965248\r\n",
      "1627455488\r\n",
      "4294965248\r\n",
      "1627652096\r\n",
      "4294965248\r\n"
     ]
    }
   ],
   "source": [
    "[<DllImport(\"psapi\")>]\n",
    "extern bool EnumDeviceDrivers(\n",
    "    [<MarshalAs(UnmanagedType.LPArray, ArraySubType = UnmanagedType.U4)>] dw[] fr,\n",
    "    dw size, dw& needed\n",
    ")\n",
    "\n",
    "let mutable nb: dw = 0u\n",
    "EnumDeviceDrivers(null, 0u, &nb) |> ignore\n",
    "\n",
    "let newSize = nb / 4u\n",
    "let mutable drivers: dw [] = int <| newSize |> Array.zeroCreate\n",
    "\n",
    "EnumDeviceDrivers(drivers, newSize, &nb)\n",
    "\n",
    "for t in drivers do if t <> 0u then printfn $\"{t}\""
   ]
  },
  {
   "cell_type": "markdown",
   "metadata": {},
   "source": [
    "# Вывод\n",
    "\n",
    "В результате лабораторной работы мной была проведена работа с потоками и процессами, используя средства Win32 API."
   ]
  }
 ],
 "metadata": {
  "kernelspec": {
   "display_name": ".NET (F#)",
   "language": "F#",
   "name": ".net-fsharp"
  },
  "language_info": {
   "name": "F#"
  }
 },
 "nbformat": 4,
 "nbformat_minor": 2
}
