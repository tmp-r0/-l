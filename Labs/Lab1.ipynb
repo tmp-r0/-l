{
 "cells": [
  {
   "cell_type": "markdown",
   "metadata": {},
   "source": [
    "# Лабораторная работа №1\n",
    "## Выполнил: студент группы БВТ2001 Хайдаров Адель Фанисович\n",
    "### Цель работы: получение практических навыков по программированию в Win32 API."
   ]
  },
  {
   "cell_type": "markdown",
   "metadata": {},
   "source": [
    "### Вспомогательные функции"
   ]
  },
  {
   "cell_type": "code",
   "execution_count": null,
   "metadata": {
    "dotnet_interactive": {
     "language": "fsharp"
    },
    "vscode": {
     "languageId": "dotnet-interactive.fsharp"
    }
   },
   "outputs": [],
   "source": [
    "open System.Runtime.InteropServices\n",
    "open System.Text\n",
    "\n",
    "type w = uint16\n",
    "type dw = uint\n",
    "type ul = uint\n",
    "type ull = uint64\n",
    "type lps = StringBuilder\n",
    "\n",
    "let mutable maxLength = 261u\n",
    "let mutable size = maxLength\n",
    "let mutable sb = lps ()\n",
    "\n",
    "let dispLast cap =\n",
    "    display($\"{cap}{sb}\") |> ignore\n",
    "    sb <- int <| size |> lps; size <- maxLength\n",
    "\n",
    "let dColor color (value: int) =\n",
    "    let t = value.ToString \"x6\"\n",
    "    HTML($\"\"\"{color}: <b style=\"color:#{t}\">{color}</b> (#{t})\"\"\")\n",
    "\n",
    "let rStr: seq<byte> -> string = Seq.map char >> String.Concat\n",
    "let rInt (t: byte []): int = int t[0]\n",
    "let rBool t = (rInt t) > 0\n",
    "\n",
    "let sToDHMS ct = ct / 86400, ct / 3600 % 24, ct / 60 % 60, ct % 60"
   ]
  },
  {
   "cell_type": "markdown",
   "metadata": {},
   "source": [
    "#### Подключение библиотеки для получения актуальной информации о версии ОС, так как Win32 API не поддерживает Windows 11:"
   ]
  },
  {
   "cell_type": "code",
   "execution_count": null,
   "metadata": {
    "dotnet_interactive": {
     "language": "fsharp"
    },
    "vscode": {
     "languageId": "dotnet-interactive.fsharp"
    }
   },
   "outputs": [],
   "source": [
    "#r \"System.Management.dll\"\n",
    "open System.Management\n",
    "\n",
    "let m_dll = new ManagementObject(\"Win32_OperatingSystem=@\")"
   ]
  },
  {
   "cell_type": "markdown",
   "metadata": {},
   "source": [
    "### Функции Win32 API\n",
    "Ниже представлены использованные функции Win32 API для получения той или иной информации о системе и для задания некоторых параметров"
   ]
  },
  {
   "cell_type": "code",
   "execution_count": null,
   "metadata": {
    "dotnet_interactive": {
     "language": "fsharp"
    },
    "vscode": {
     "languageId": "dotnet-interactive.fsharp"
    }
   },
   "outputs": [],
   "source": [
    "[<DllImport(\"kernel32.dll\", CharSet = CharSet.Unicode)>] extern void GetComputerName(lps buffer, dw& size)\n",
    "[<DllImport(\"kernel32.dll\", CharSet = CharSet.Unicode)>] extern void GetSystemDirectory(lps buffer, dw& size)\n",
    "[<DllImport(\"kernel32.dll\", CharSet = CharSet.Unicode)>] extern void GetWindowsDirectory(lps buffer, dw& size)\n",
    "[<DllImport(\"kernel32.dll\", CharSet = CharSet.Unicode)>] extern void GetTempPath(dw size, lps buffer)\n",
    "\n",
    "type DateTime = struct\n",
    "    val year: w; val month: w; val dayOfWeek: w; val day: w\n",
    "    val hour: w; val minute: w; val second: w\n",
    "end\n",
    "[<DllImport(\"kernel32.dll\")>] extern void GetSystemTime(DateTime& st)\n",
    "[<DllImport(\"kernel32.dll\")>] extern void GetLocalTime(DateTime& st)\n",
    "\n",
    "type SomeMetrics = | ScreenW = 0 | ScreenH = 1 | ScrollbarW = 3 | FScreenW = 16 | FScreenH = 17 | TButtonW = 30 | IsSlow = 73\n",
    "\n",
    "type Colors = | Window = 5 | WindowText = 8 | Highlight = 24 | Hotlight = 26 | Frame = 6\n",
    "\n",
    "type P = | ScreenReader = 0x46 | Wallpaper = 0x73 | KillTimeout = 0x7A | NotRespondingTimeout = 0x7C\n",
    "\n",
    "[<DllImport(\"user32.dll\")>] extern int GetSystemMetrics(SomeMetrics nIndex)\n",
    "[<DllImport(\"user32.dll\")>] extern bool SystemParametersInfo(P action, uint uiParam, byte [] pv, uint fWinIni)\n",
    "[<DllImport(\"user32.dll\")>] extern int GetSysColor(Colors nIndex)\n",
    "[<DllImport(\"user32.dll\")>] extern bool SetSysColors(int cEl, Colors [] elements, int [] color)\n",
    "\n",
    "let getParam id getter =\n",
    "    let mutable g: byte [] = int <| size |> Array.zeroCreate\n",
    "    if SystemParametersInfo(id, size, g, 0u) |> not then failwith \"\"\n",
    "    getter g\n",
    "\n",
    "[<DllImport(\"secur32.dll\", CharSet = CharSet.Unicode)>] extern void GetUserNameEx(dw f, lps buffer, dw& size)\n",
    "\n",
    "type OsVersionInfo = struct\n",
    "    val mutable size: ul\n",
    "    val major: ul; val minor: ul; val build: ul; val platform: ul\n",
    "end\n",
    "[<DllImport(\"ntdll.dll\")>] extern void RtlGetVersion(OsVersionInfo& info)"
   ]
  },
  {
   "cell_type": "markdown",
   "metadata": {},
   "source": [
    "### Выполнение"
   ]
  },
  {
   "cell_type": "markdown",
   "metadata": {},
   "source": [
    "#### Имя компьютера и полное имя пользователя:"
   ]
  },
  {
   "cell_type": "code",
   "execution_count": null,
   "metadata": {
    "dotnet_interactive": {
     "language": "fsharp"
    },
    "vscode": {
     "languageId": "dotnet-interactive.fsharp"
    }
   },
   "outputs": [
    {
     "data": {
      "text/plain": [
       "Имя компьютера: A-PC"
      ]
     },
     "metadata": {},
     "output_type": "display_data"
    },
    {
     "data": {
      "text/plain": [
       "Имя пользователя: Adil Haidar"
      ]
     },
     "metadata": {},
     "output_type": "display_data"
    }
   ],
   "source": [
    "GetComputerName(sb, &size); dispLast \"Имя компьютера: \"\n",
    "GetUserNameEx(3u, sb, &size); dispLast \"Имя пользователя: \""
   ]
  },
  {
   "cell_type": "markdown",
   "metadata": {},
   "source": [
    "#### Пути к системным каталогам Windows:"
   ]
  },
  {
   "cell_type": "code",
   "execution_count": null,
   "metadata": {
    "dotnet_interactive": {
     "language": "fsharp"
    },
    "vscode": {
     "languageId": "dotnet-interactive.fsharp"
    }
   },
   "outputs": [
    {
     "data": {
      "text/plain": [
       "Каталог Windows: C:\\Windows"
      ]
     },
     "metadata": {},
     "output_type": "display_data"
    },
    {
     "data": {
      "text/plain": [
       "Каталог System32: C:\\Windows\\system32"
      ]
     },
     "metadata": {},
     "output_type": "display_data"
    },
    {
     "data": {
      "text/plain": [
       "Каталог c временными файлами: C:\\Users\\adel_\\AppData\\Local\\Temp\\"
      ]
     },
     "metadata": {},
     "output_type": "display_data"
    }
   ],
   "source": [
    "GetWindowsDirectory(sb, &size); dispLast \"Каталог Windows: \"\n",
    "GetSystemDirectory(sb, &size); dispLast \"Каталог System32: \"\n",
    "GetTempPath(size, sb); dispLast \"Каталог c временными файлами: \""
   ]
  },
  {
   "cell_type": "markdown",
   "metadata": {},
   "source": [
    "#### Версия установленной ОС:"
   ]
  },
  {
   "cell_type": "code",
   "execution_count": null,
   "metadata": {
    "dotnet_interactive": {
     "language": "fsharp"
    },
    "vscode": {
     "languageId": "dotnet-interactive.fsharp"
    }
   },
   "outputs": [
    {
     "data": {
      "text/plain": [
       "Данные, полученные с помощью RtlGetVersion:"
      ]
     },
     "metadata": {},
     "output_type": "display_data"
    },
    {
     "data": {
      "text/html": [
       "<table><thead><tr><th>major</th><th>minor</th><th>build</th><th>platform</th><th>size</th></tr></thead><tbody><tr><td><div class=\"dni-plaintext\">10</div></td><td><div class=\"dni-plaintext\">0</div></td><td><div class=\"dni-plaintext\">22000</div></td><td><div class=\"dni-plaintext\">2</div></td><td><div class=\"dni-plaintext\">0</div></td></tr></tbody></table>"
      ]
     },
     "metadata": {},
     "output_type": "display_data"
    },
    {
     "data": {
      "text/plain": [
       "Версия установленной операционной системы:\n",
       "Microsoft Windows 11 Pro"
      ]
     },
     "metadata": {},
     "output_type": "display_data"
    }
   ],
   "source": [
    "let mutable v = OsVersionInfo()\n",
    "display \"Данные, полученные с помощью RtlGetVersion:\"\n",
    "RtlGetVersion &v; display v\n",
    "$\"\"\"Версия установленной операционной системы:{\"\\n\"}{m_dll[\"Caption\"]}\"\"\""
   ]
  },
  {
   "cell_type": "markdown",
   "metadata": {},
   "source": [
    "#### Системные метрики:"
   ]
  },
  {
   "cell_type": "code",
   "execution_count": null,
   "metadata": {
    "dotnet_interactive": {
     "language": "fsharp"
    },
    "vscode": {
     "languageId": "dotnet-interactive.fsharp"
    }
   },
   "outputs": [
    {
     "data": {
      "text/plain": [
       "Размер интерфейса ОС: 1536x864"
      ]
     },
     "metadata": {},
     "output_type": "display_data"
    },
    {
     "data": {
      "text/plain": [
       "Размер развёрнутого приложения: 1536x841"
      ]
     },
     "metadata": {},
     "output_type": "display_data"
    },
    {
     "data": {
      "text/plain": [
       "Ширина заголовочной кнопкиф: 36px"
      ]
     },
     "metadata": {},
     "output_type": "display_data"
    },
    {
     "data": {
      "text/plain": [
       "Ширина полосы прокрутки: 17px"
      ]
     },
     "metadata": {},
     "output_type": "display_data"
    },
    {
     "data": {
      "text/plain": [
       "Наличие несовместимого процессора: False"
      ]
     },
     "metadata": {},
     "output_type": "display_data"
    }
   ],
   "source": [
    "display $\"Размер интерфейса ОС: \\\n",
    "          {GetSystemMetrics SomeMetrics.ScreenW}x{GetSystemMetrics SomeMetrics.ScreenH}\"\n",
    "display $\"Размер развёрнутого приложения: \\\n",
    "          {GetSystemMetrics SomeMetrics.FScreenW}x{GetSystemMetrics SomeMetrics.FScreenH}\"\n",
    "display $\"Ширина заголовочной кнопкиф: {GetSystemMetrics SomeMetrics.TButtonW}px\"\n",
    "display $\"Ширина полосы прокрутки: {GetSystemMetrics SomeMetrics.ScrollbarW}px\"\n",
    "display $\"Наличие несовместимого процессора: {GetSystemMetrics SomeMetrics.IsSlow > 0}\""
   ]
  },
  {
   "cell_type": "markdown",
   "metadata": {},
   "source": [
    "#### Системные параметры:"
   ]
  },
  {
   "cell_type": "code",
   "execution_count": null,
   "metadata": {
    "dotnet_interactive": {
     "language": "fsharp"
    },
    "vscode": {
     "languageId": "dotnet-interactive.fsharp"
    }
   },
   "outputs": [
    {
     "data": {
      "text/plain": [
       "Таймаут остановки зависнувшей программы: 136 мс"
      ]
     },
     "metadata": {},
     "output_type": "display_data"
    },
    {
     "data": {
      "text/plain": [
       "Таймаут остановки зависнувшей службы: 136 мс"
      ]
     },
     "metadata": {},
     "output_type": "display_data"
    },
    {
     "data": {
      "text/plain": [
       "Экранный диктор выключен"
      ]
     },
     "metadata": {},
     "output_type": "display_data"
    },
    {
     "data": {
      "text/plain": [
       "Путь к обоям рабочего стола: C:\\Windows\\Web\\Wallpaper\\ThemeA\\img21.jpg\u0000\u0000\u0000\u0000\u0000\u0000\u0000\u0000\u0000\u0000\u0000\u0000\u0000\u0000\u0000\u0000\u0000\u0000\u0000\u0000\u0000\u0000\u0000\u0000\u0000\u0000\u0000\u0000\u0000\u0000\u0000\u0000\u0000\u0000\u0000\u0000\u0000\u0000\u0000\u0000\u0000\u0000\u0000\u0000\u0000\u0000\u0000\u0000\u0000\u0000\u0000\u0000\u0000\u0000\u0000\u0000\u0000\u0000\u0000\u0000\u0000\u0000\u0000\u0000\u0000\u0000\u0000\u0000\u0000\u0000\u0000\u0000\u0000\u0000\u0000\u0000\u0000\u0000\u0000\u0000\u0000\u0000\u0000\u0000\u0000\u0000\u0000\u0000\u0000\u0000\u0000\u0000\u0000\u0000\u0000\u0000\u0000\u0000\u0000\u0000\u0000\u0000\u0000\u0000\u0000\u0000\u0000\u0000\u0000\u0000\u0000\u0000\u0000\u0000\u0000\u0000\u0000\u0000\u0000\u0000\u0000\u0000\u0000\u0000\u0000\u0000\u0000\u0000\u0000\u0000\u0000\u0000\u0000\u0000\u0000\u0000\u0000\u0000\u0000\u0000\u0000\u0000\u0000\u0000\u0000\u0000\u0000\u0000\u0000\u0000\u0000\u0000\u0000\u0000\u0000\u0000\u0000\u0000\u0000\u0000\u0000\u0000\u0000\u0000\u0000\u0000\u0000\u0000\u0000\u0000\u0000\u0000\u0000\u0000\u0000\u0000\u0000\u0000\u0000\u0000\u0000\u0000\u0000\u0000\u0000\u0000\u0000\u0000\u0000\u0000\u0000\u0000\u0000\u0000\u0000\u0000\u0000\u0000\u0000\u0000\u0000\u0000\u0000\u0000\u0000\u0000\u0000\u0000\u0000\u0000\u0000\u0000\u0000\u0000\u0000\u0000\u0000\u0000\u0000\u0000"
      ]
     },
     "metadata": {},
     "output_type": "display_data"
    }
   ],
   "source": [
    "display $\"Таймаут остановки зависнувшей программы: {getParam P.NotRespondingTimeout rInt} мс\"\n",
    "display $\"Таймаут остановки зависнувшей службы: {getParam P.KillTimeout rInt} мс\"\n",
    "display $\"\"\"Экранный диктор в{if getParam P.ScreenReader rBool then \"\" else \"ы\"}ключен\"\"\"\n",
    "display $\"Путь к обоям рабочего стола: {getParam P.Wallpaper rStr}\""
   ]
  },
  {
   "cell_type": "markdown",
   "metadata": {},
   "source": [
    "#### Получение некоторых системных цветов, установка кастомных и откат изменений:"
   ]
  },
  {
   "cell_type": "code",
   "execution_count": null,
   "metadata": {
    "dotnet_interactive": {
     "language": "fsharp"
    },
    "vscode": {
     "languageId": "dotnet-interactive.fsharp"
    }
   },
   "outputs": [
    {
     "data": {
      "text/plain": [
       "Изначальные цвета:"
      ]
     },
     "metadata": {},
     "output_type": "display_data"
    },
    {
     "data": {
      "text/html": [
       "Window: <b style=\"color:#ffffff\">Window</b> (#ffffff)"
      ]
     },
     "metadata": {},
     "output_type": "display_data"
    },
    {
     "data": {
      "text/html": [
       "Frame: <b style=\"color:#646464\">Frame</b> (#646464)"
      ]
     },
     "metadata": {},
     "output_type": "display_data"
    },
    {
     "data": {
      "text/html": [
       "WindowText: <b style=\"color:#000000\">WindowText</b> (#000000)"
      ]
     },
     "metadata": {},
     "output_type": "display_data"
    },
    {
     "data": {
      "text/html": [
       "Highlight: <b style=\"color:#e1ffff\">Highlight</b> (#e1ffff)"
      ]
     },
     "metadata": {},
     "output_type": "display_data"
    },
    {
     "data": {
      "text/html": [
       "Hotlight: <b style=\"color:#cc6600\">Hotlight</b> (#cc6600)"
      ]
     },
     "metadata": {},
     "output_type": "display_data"
    },
    {
     "data": {
      "text/plain": [
       "\n",
       "Новые цвета: "
      ]
     },
     "metadata": {},
     "output_type": "display_data"
    },
    {
     "data": {
      "text/html": [
       "Frame: <b style=\"color:#7744ff\">Frame</b> (#7744ff)"
      ]
     },
     "metadata": {},
     "output_type": "display_data"
    },
    {
     "data": {
      "text/plain": [
       "Новые цвета установлены"
      ]
     },
     "metadata": {},
     "output_type": "display_data"
    }
   ],
   "source": [
    "let s = seq { \n",
    "    display \"Изначальные цвета:\" |> ignore\n",
    "    for v in Enum.GetValues<Colors>() |> Seq.cast<Colors> do \n",
    "        let t = v, GetSysColor v\n",
    "        dColor <|| t |> display |> ignore\n",
    "        t\n",
    "}\n",
    "\n",
    "let oldColors, newColors = s |> Seq.toArray, [|Colors.Frame, 0x7744ff|]\n",
    "let n1, n2 = oldColors |> Array.unzip, newColors |> Array.unzip\n",
    "\n",
    "display \"\\nНовые цвета: \"\n",
    "newColors |> Array.iter (fun t -> dColor <|| t |> display |> ignore)\n",
    "\n",
    "let result = SetSysColors(newColors.Length, fst n2, snd n2)\n",
    "display $\"\"\"Новые цвета {if result then \"\" else \"не \"}установлены\"\"\"\n",
    "\n",
    "SetSysColors(oldColors.Length, fst n1, snd n1) |> ignore // возврат системных цветов"
   ]
  },
  {
   "cell_type": "markdown",
   "metadata": {},
   "source": [
    "#### Получение системного и местного времени:"
   ]
  },
  {
   "cell_type": "code",
   "execution_count": null,
   "metadata": {
    "dotnet_interactive": {
     "language": "fsharp"
    },
    "vscode": {
     "languageId": "dotnet-interactive.fsharp"
    }
   },
   "outputs": [
    {
     "data": {
      "text/plain": [
       "Дата: 19.09.2022 Время: 18:55:34"
      ]
     },
     "metadata": {},
     "output_type": "display_data"
    },
    {
     "data": {
      "text/plain": [
       "Местное время: 21:55:34"
      ]
     },
     "metadata": {},
     "output_type": "display_data"
    }
   ],
   "source": [
    "let mutable v = DateTime()\n",
    "GetSystemTime &v; display $\"Дата: %02d{v.day}.%02d{v.month}.{v.year} \\\n",
    "                            Время: %02d{v.hour}:%02d{v.minute}:%02d{v.second}\"\n",
    "GetLocalTime &v; $\"Местное время: %02d{v.hour}:%02d{v.minute}:%02d{v.second}\""
   ]
  },
  {
   "cell_type": "markdown",
   "metadata": {},
   "source": [
    "### 4 дополнительные API-функции"
   ]
  },
  {
   "cell_type": "code",
   "execution_count": null,
   "metadata": {
    "dotnet_interactive": {
     "language": "fsharp"
    },
    "vscode": {
     "languageId": "dotnet-interactive.fsharp"
    }
   },
   "outputs": [],
   "source": [
    "[<DllImport(\"kernel32.dll\")>] extern ull GetTickCount64()\n",
    "type PowerStatus = struct\n",
    "    val ac: byte; val battery: byte; val bPercent: uint8\n",
    "    val saverOn: byte; val lt: dw; val flt: dw\n",
    "end\n",
    "[<DllImport(\"kernel32.dll\")>] extern bool GetSystemPowerStatus(PowerStatus& status)\n",
    "\n",
    "type MemoryStatus = struct\n",
    "    val mutable length: dw\n",
    "    val load: dw; val total: ull; val available: ull\n",
    "    val pfTotal: ull; val pfAvail: ull\n",
    "    val vTotal: ull; val vAvail: ull; val vAvailExt: ull\n",
    "end\n",
    "[<DllImport(\"kernel32.dll\")>] extern bool GlobalMemoryStatusEx(MemoryStatus& status)\n",
    "\n",
    "let currentBattery () =\n",
    "    let mutable status = PowerStatus()\n",
    "    if GetSystemPowerStatus &status |> not then failwith \"\"\n",
    "    status\n",
    "\n",
    "let currentMemory () =\n",
    "    let mutable status = MemoryStatus(length = uint sizeof<MemoryStatus>)\n",
    "    if GlobalMemoryStatusEx &status |> not then failwith \"\"\n",
    "    status\n",
    "\n",
    "[<DllImport(\"kernelbase.dll\")>] extern bool GetIntegratedDisplaySize(double& sizeInInches)"
   ]
  },
  {
   "cell_type": "markdown",
   "metadata": {},
   "source": [
    "#### Информация об электропитании и о батарее:"
   ]
  },
  {
   "cell_type": "code",
   "execution_count": null,
   "metadata": {
    "dotnet_interactive": {
     "language": "fsharp"
    },
    "vscode": {
     "languageId": "dotnet-interactive.fsharp"
    }
   },
   "outputs": [
    {
     "data": {
      "text/plain": [
       "Питание: от сети"
      ]
     },
     "metadata": {},
     "output_type": "display_data"
    },
    {
     "data": {
      "text/plain": [
       "Заряд: 99%"
      ]
     },
     "metadata": {},
     "output_type": "display_data"
    },
    {
     "data": {
      "text/plain": [
       "Экономия энергии: выключена"
      ]
     },
     "metadata": {},
     "output_type": "display_data"
    },
    {
     "data": {
      "text/plain": [
       "Оставшееся время от аккумулятора: неизвестно"
      ]
     },
     "metadata": {},
     "output_type": "display_data"
    }
   ],
   "source": [
    "let power = currentBattery ()\n",
    "display $\"\"\"Питание: от {if (int power.ac) > 0 then \"сети\" else \"батареи\"}\"\"\"\n",
    "display $\"\"\"Заряд: {power.bPercent}{'%'}\"\"\"\n",
    "display $\"\"\"Экономия энергии: в{if (int power.saverOn) > 0 then \"\" else \"ы\"}ключена\"\"\"\n",
    "let _, h, m, s = power.lt |> int |> sToDHMS\n",
    "\"Оставшееся время от аккумулятора: \" + if s <> -1 then $\"{h} ч {m} мин\" else \"неизвестно\""
   ]
  },
  {
   "cell_type": "markdown",
   "metadata": {
    "dotnet_interactive": {
     "language": "fsharp"
    }
   },
   "source": [
    "#### Информация об использовании оперативной памяти:"
   ]
  },
  {
   "cell_type": "code",
   "execution_count": null,
   "metadata": {
    "dotnet_interactive": {
     "language": "fsharp"
    },
    "vscode": {
     "languageId": "dotnet-interactive.fsharp"
    }
   },
   "outputs": [
    {
     "data": {
      "text/plain": [
       "Загруженность оперативной памяти: 71%"
      ]
     },
     "metadata": {},
     "output_type": "display_data"
    }
   ],
   "source": [
    "let usage = currentMemory ()\n",
    "$\"Загруженность оперативной памяти: {usage.load}{'%'}\""
   ]
  },
  {
   "cell_type": "markdown",
   "metadata": {},
   "source": [
    "#### Получение размера (диагонали) встроенного дисплея ноутбука:"
   ]
  },
  {
   "cell_type": "code",
   "execution_count": null,
   "metadata": {
    "dotnet_interactive": {
     "language": "fsharp"
    },
    "vscode": {
     "languageId": "dotnet-interactive.fsharp"
    }
   },
   "outputs": [
    {
     "data": {
      "text/plain": [
       "Диагональ интегрированного дисплея: 15.53 дюйма"
      ]
     },
     "metadata": {},
     "output_type": "display_data"
    }
   ],
   "source": [
    "let mutable din = 0.\n",
    "GetIntegratedDisplaySize &din\n",
    "$\"Диагональ интегрированного дисплея: %.02f{din} дюйма\""
   ]
  },
  {
   "cell_type": "markdown",
   "metadata": {},
   "source": [
    "#### Получение времени, прошедшего с момента загрузки системы:"
   ]
  },
  {
   "cell_type": "code",
   "execution_count": null,
   "metadata": {
    "dotnet_interactive": {
     "language": "fsharp"
    },
    "vscode": {
     "languageId": "dotnet-interactive.fsharp"
    }
   },
   "outputs": [
    {
     "data": {
      "text/plain": [
       "Время с последнего запуска 1 дн 15 час 39 мин 22 сек"
      ]
     },
     "metadata": {},
     "output_type": "display_data"
    }
   ],
   "source": [
    "let time = GetTickCount64 () / 1000UL |> int\n",
    "let d, h, m, s = sToDHMS time\n",
    "$\"Время с последнего запуска {d} дн {h} час {m} мин {s} сек\""
   ]
  },
  {
   "cell_type": "markdown",
   "metadata": {},
   "source": [
    "# Вывод\n",
    "\n",
    "В результате лабораторной работы мной было получено несколько видов информации о системе, используя средства Win32 API."
   ]
  }
 ],
 "metadata": {
  "kernelspec": {
   "display_name": ".NET (F#)",
   "language": "F#",
   "name": ".net-fsharp"
  },
  "language_info": {
   "name": "F#"
  }
 },
 "nbformat": 4,
 "nbformat_minor": 2
}
