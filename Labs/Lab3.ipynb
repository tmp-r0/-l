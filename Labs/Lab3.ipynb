{
 "cells": [
  {
   "cell_type": "markdown",
   "metadata": {},
   "source": [
    "# Методы синхронизации потоков (Лабораторная работа №3)\n",
    "## Выполнил: студент группы БВТ2001 Хайдаров Адель Фанисович\n",
    "##### Цель работы: получение практических навыков использования Win32 API для синхронизации потоков."
   ]
  },
  {
   "cell_type": "markdown",
   "metadata": {},
   "source": [
    "### Вспомогательные функции"
   ]
  },
  {
   "cell_type": "code",
   "execution_count": 2,
   "metadata": {
    "dotnet_interactive": {
     "language": "fsharp"
    },
    "vscode": {
     "languageId": "dotnet-interactive.fsharp"
    }
   },
   "outputs": [
    {
     "data": {
      "text/html": [
       "<div><div></div><div></div><div><strong>Installed Packages</strong><ul><li><span>RayLib-CsLo, 4.2.0.3</span></li></ul></div></div>"
      ]
     },
     "metadata": {},
     "output_type": "display_data"
    }
   ],
   "source": [
    "open System.Runtime.InteropServices\n",
    "open System.Text\n",
    "\n",
    "type dw = uint\n",
    "type lps = StringBuilder\n",
    "type hdl = nativeint\n",
    "\n",
    "#r \"nuget: RayLib-CsLo\""
   ]
  },
  {
   "cell_type": "markdown",
   "metadata": {},
   "source": [
    "### Функции Win32 API\n",
    "Ниже представлены использованные функции Win32 API для получения той или иной информации о системе и для задания некоторых параметров"
   ]
  },
  {
   "cell_type": "code",
   "execution_count": 3,
   "metadata": {
    "dotnet_interactive": {
     "language": "fsharp"
    },
    "vscode": {
     "languageId": "dotnet-interactive.fsharp"
    }
   },
   "outputs": [],
   "source": [
    "[<DllImport(\"kernel32.dll\")>] extern dw GetCurrentThreadId()\n",
    "[<DllImport(\"kernel32.dll\")>] extern dw GetCurrentProcessId()\n",
    "[<DllImport(\"kernel32.dll\")>] extern void Sleep(dw ms)\n",
    "\n",
    "type CriticalSection = struct\n",
    "    val debug: int64\n",
    "    val lockCount: int; val recursionCount: int\n",
    "    val owningThread: hdl; val lockSemaphore: hdl\n",
    "    val spinCount: dw\n",
    "end\n",
    "\n",
    "[<DllImport(\"kernel32.dll\")>] extern void InitializeCriticalSection(CriticalSection& s)\n",
    "[<DllImport(\"kernel32.dll\")>] extern void EnterCriticalSection(CriticalSection& s)\n",
    "[<DllImport(\"kernel32.dll\")>] extern void LeaveCriticalSection(CriticalSection& s)\n",
    "[<DllImport(\"kernel32.dll\")>] extern void DeleteCriticalSection(CriticalSection& s)\n",
    "\n",
    "let INFINITE = 0xFFFFFFFFu\n",
    "\n",
    "type WState = | Abandoned = 0x80 | TimedOut = 0x102 | Signaled = 0\n",
    "type Access = | All = 0x1F0001\n",
    "\n",
    "[<DllImport(\"kernel32.dll\")>] extern WState WaitForSingleObject(hdl handle, dw ms)\n",
    "\n",
    "[<DllImport(\"kernel32.dll\")>] extern hdl CreateMutex(string sec, bool isInitial, string name)\n",
    "[<DllImport(\"kernel32.dll\")>] extern hdl OpenMutex(Access access, bool isInitial, string name)\n",
    "[<DllImport(\"kernel32.dll\")>] extern bool ReleaseMutex(hdl handle)\n",
    "\n",
    "[<DllImport(\"kernel32.dll\")>] extern hdl CreateSemaphore(string l0, int init, int max, string name)\n",
    "[<DllImport(\"kernel32.dll\")>] extern bool ReleaseSemaphore(hdl sm, int init, int& prev)\n",
    "\n",
    "[<DllImport(\"kernel32.dll\")>] extern bool CloseHandle(hdl object)"
   ]
  },
  {
   "cell_type": "markdown",
   "metadata": {},
   "source": [
    "### Выполнение"
   ]
  },
  {
   "cell_type": "markdown",
   "metadata": {},
   "source": [
    "#### Метод критических секций"
   ]
  },
  {
   "cell_type": "code",
   "execution_count": 4,
   "metadata": {
    "dotnet_interactive": {
     "language": "fsharp"
    },
    "vscode": {
     "languageId": "dotnet-interactive.fsharp"
    }
   },
   "outputs": [
    {
     "data": {
      "text/plain": [
       "Правильное выполнение: 30000"
      ]
     },
     "metadata": {},
     "output_type": "display_data"
    },
    {
     "data": {
      "text/plain": [
       "Неправильное выполнение: 50855"
      ]
     },
     "metadata": {},
     "output_type": "display_data"
    }
   ],
   "source": [
    "let mutable section = CriticalSection()\n",
    "\n",
    "let mutable cnt = 0\n",
    "\n",
    "let inc =\n",
    "    async {\n",
    "        EnterCriticalSection &section\n",
    "        for _ = 1 to 10000 do cnt <- cnt + 1\n",
    "        LeaveCriticalSection &section\n",
    "    }\n",
    "\n",
    "let racingInc =\n",
    "    async { for _ = 1 to 10000 do cnt <- cnt + 1 }\n",
    "    \n",
    "let run (abc: Async<'s>) times = \n",
    "    InitializeCriticalSection &section\n",
    "    seq { for _ = 1 to times do abc } |> Async.Parallel |> Async.RunSynchronously |> ignore\n",
    "    DeleteCriticalSection &section\n",
    "    cnt\n",
    "\n",
    "display $\"Правильное выполнение: {run inc 3}\"\n",
    "display $\"Неправильное выполнение: {run racingInc 3}\""
   ]
  },
  {
   "cell_type": "markdown",
   "metadata": {},
   "source": [
    "#### Метод мьютексов"
   ]
  },
  {
   "cell_type": "markdown",
   "metadata": {
    "dotnet_interactive": {
     "language": "fsharp"
    },
    "vscode": {
     "languageId": "dotnet-interactive.fsharp"
    }
   },
   "source": [
    "Поток машин на ж/д переезде:"
   ]
  },
  {
   "cell_type": "code",
   "execution_count": 5,
   "metadata": {
    "dotnet_interactive": {
     "language": "fsharp"
    },
    "vscode": {
     "languageId": "dotnet-interactive.fsharp"
    }
   },
   "outputs": [
    {
     "data": {
      "text/plain": [
       "ID процесса: 18108"
      ]
     },
     "metadata": {},
     "output_type": "display_data"
    },
    {
     "data": {
      "text/plain": [
       "Ожидание..."
      ]
     },
     "metadata": {},
     "output_type": "display_data"
    },
    {
     "data": {
      "text/plain": [
       "Шлагбаум открыт"
      ]
     },
     "metadata": {},
     "output_type": "display_data"
    },
    {
     "name": "stdout",
     "output_type": "stream",
     "text": [
      "1 2 3 4 5 6 7 8 9 10 11 12 13 14 15 16 17 18 19 20 "
     ]
    },
    {
     "data": {
      "text/plain": [
       "Все проехали переезд"
      ]
     },
     "metadata": {},
     "output_type": "display_data"
    }
   ],
   "source": [
    "display $\"ID процесса: {GetCurrentProcessId()}\"\n",
    "\n",
    "let mutex: hdl = OpenMutex(Access.All, false, \"MX1\")\n",
    "\n",
    "if mutex = 0 then display \"Шлагбаума нет\"\n",
    "else display \"Ожидание...\"\n",
    "\n",
    "let wait = WaitForSingleObject(mutex, INFINITE)\n",
    "if mutex <> 0 then display \"Шлагбаум открыт\" |> ignore\n",
    "\n",
    "for t = 1 to 20 do printf $\"{t} \"; Sleep 500u\n",
    "\n",
    "ReleaseMutex mutex\n",
    "\n",
    "display \"Все проехали переезд\"\n",
    "\n",
    "CloseHandle mutex |> ignore"
   ]
  },
  {
   "cell_type": "markdown",
   "metadata": {
    "dotnet_interactive": {
     "language": "fsharp"
    }
   },
   "source": [
    "Шлагбаум (запускать отдельным приложением):"
   ]
  },
  {
   "cell_type": "code",
   "execution_count": null,
   "metadata": {
    "dotnet_interactive": {
     "language": "fsharp"
    },
    "vscode": {
     "languageId": "dotnet-interactive.fsharp"
    }
   },
   "outputs": [],
   "source": [
    "open Raylib_CsLo\n",
    "open type Raylib\n",
    "open type KeyboardKey\n",
    "\n",
    "let pid = GetCurrentProcessId()\n",
    "let mutex = CreateMutex(null, false, \"MX1\")\n",
    "\n",
    "let width, height = 400, 500\n",
    "InitWindow(width, height, \"Шлагбаум\"); SetTargetFPS 60\n",
    "\n",
    "let btnX, btnY, btnW, btnH = 10, 35, width - 20, height - 45\n",
    "\n",
    "let mutable pause, complete = true, false\n",
    "\n",
    "WaitForSingleObject(mutex, INFINITE) |> ignore\n",
    "\n",
    "while WindowShouldClose() |> not do\n",
    "    if IsKeyPressed KEY_SPACE then\n",
    "        if pause then ReleaseMutex mutex |> ignore\n",
    "        if complete |> not then pause <- not pause\n",
    "\n",
    "        complete <- true\n",
    "\n",
    "    let status = if pause then \"STOP!\" else \"GO!\"\n",
    "    let tW, tH = MeasureText(status, 40), 40\n",
    "\n",
    "    BeginDrawing(); ClearBackground RAYWHITE\n",
    "\n",
    "    DrawRectangle(btnX, btnY, btnW, btnH, (if pause then Color(r = 255, g = 0, b = 30, a = 200) else SKYBLUE))\n",
    "    DrawText($\"Process ID: {pid}\", 10, 10, 20, DARKGRAY)\n",
    "    DrawText(status, btnX + (btnW - tW) / 2, btnY + (btnH - tH) / 2, 40, DARKGRAY)\n",
    "\n",
    "    EndDrawing()\n",
    "\n",
    "CloseHandle mutex |> ignore\n",
    "CloseWindow()"
   ]
  },
  {
   "cell_type": "markdown",
   "metadata": {},
   "source": [
    "#### Метод семафоров"
   ]
  },
  {
   "cell_type": "code",
   "execution_count": null,
   "metadata": {
    "dotnet_interactive": {
     "language": "fsharp"
    },
    "vscode": {
     "languageId": "dotnet-interactive.fsharp"
    }
   },
   "outputs": [
    {
     "data": {
      "text/plain": [
       "Парковка открыта на 30 секунд"
      ]
     },
     "metadata": {},
     "output_type": "display_data"
    }
   ],
   "source": [
    "let sm = CreateSemaphore(null, 4, 4, \"CarParking\")\n",
    "\n",
    "display \"Парковка открыта на 30 секунд\"\n",
    "\n",
    "Sleep 30000u\n",
    "\n",
    "CloseHandle sm |> ignore"
   ]
  },
  {
   "cell_type": "markdown",
   "metadata": {},
   "source": [
    "# Вывод\n",
    "\n",
    "В результате лабораторной работы мной была проведена работа с потоками и процессами, используя средства Win32 API."
   ]
  }
 ],
 "metadata": {
  "kernelspec": {
   "display_name": ".NET (C#)",
   "language": "C#",
   "name": ".net-csharp"
  },
  "language_info": {
   "file_extension": ".cs",
   "mimetype": "text/x-csharp",
   "name": "C#",
   "pygments_lexer": "csharp",
   "version": "9.0"
  },
  "orig_nbformat": 4,
  "vscode": {
   "interpreter": {
    "hash": "cba34be0a5c1c4b956d534f61cec5a831781ebe84045caafbcc9cee601db1370"
   }
  }
 },
 "nbformat": 4,
 "nbformat_minor": 2
}
